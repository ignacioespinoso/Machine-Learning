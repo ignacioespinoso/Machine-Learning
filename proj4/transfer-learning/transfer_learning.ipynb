{
  "nbformat": 4,
  "nbformat_minor": 0,
  "metadata": {
    "colab": {
      "name": "transfer-learning.ipynb",
      "version": "0.3.2",
      "provenance": [],
      "collapsed_sections": [],
      "toc_visible": true
    },
    "kernelspec": {
      "name": "python3",
      "display_name": "Python 3"
    },
    "accelerator": "GPU"
  },
  "cells": [
    {
      "metadata": {
        "id": "8OJC7dnpna84",
        "colab_type": "code",
        "colab": {}
      },
      "cell_type": "code",
      "source": [
        "%matplotlib inline"
      ],
      "execution_count": 0,
      "outputs": []
    },
    {
      "metadata": {
        "id": "qeSvsnoRna88",
        "colab_type": "text"
      },
      "cell_type": "markdown",
      "source": [
        "# Transfer Learning\n",
        "In this assignment, we will use the weights of a network pre-trained in a particular problem as starting point to train our CNN to a different problem. As training a network from scratch is time-consuming and demands a lot of data, this is a frequent strategy, specially if both datasets (the one used for pre-training and the target) shares similar structures/elements/concepts. \n",
        "\n",
        "This is specially true when working with images. Most filters learned in initial convolutional layers will detect low-level elements, such as borders, corners and color blobs, which are common to most problems in the image domain. \n",
        "\n",
        "In this notebook, we will load the SqueezeNet architecture trained in the ImageNet dataset and fine-tune it to CIFAR-10.\n",
        "\n",
        "## Imports"
      ]
    },
    {
      "metadata": {
        "id": "RloN2xudna88",
        "colab_type": "code",
        "outputId": "b5234148-0ddc-4b74-bb46-fdbf626f6192",
        "colab": {
          "base_uri": "https://localhost:8080/",
          "height": 91
        }
      },
      "cell_type": "code",
      "source": [
        "import os\n",
        "import numpy as np\n",
        "from random import sample, seed\n",
        "seed(42)\n",
        "np.random.seed(42)\n",
        "\n",
        "import matplotlib.pyplot as plt\n",
        "# plt.rcParams['figure.figsize'] = (15,15) # Make the figures a bit bigger\n",
        "\n",
        "# Keras imports\n",
        "from keras.layers import Input, Convolution2D, MaxPooling2D, Activation, concatenate, Dropout, GlobalAveragePooling2D\n",
        "from keras.models import Model\n",
        "from keras import regularizers\n",
        "from keras.optimizers import Adam\n",
        "from keras.utils import np_utils\n",
        "from keras.preprocessing.image import load_img, img_to_array\n",
        "from keras.datasets import cifar10\n",
        "from keras.callbacks import TensorBoard\n",
        "from sklearn.cross_validation import StratifiedShuffleSplit\n",
        "\n",
        "#Utility to plot\n",
        "def plotImages(imgList):\n",
        "    for i in range(len(imgList)):\n",
        "        plotImage(imgList[i])\n",
        "        \n",
        "        \n",
        "def plotImage(img):\n",
        "    fig = plt.figure(figsize=(3,3))\n",
        "    ax = fig.add_subplot(111)\n",
        "\n",
        "    ax.imshow(np.uint8(img), interpolation='nearest')\n",
        "    plt.show()"
      ],
      "execution_count": 3,
      "outputs": [
        {
          "output_type": "stream",
          "text": [
            "Using TensorFlow backend.\n",
            "/usr/local/lib/python3.6/dist-packages/sklearn/cross_validation.py:41: DeprecationWarning: This module was deprecated in version 0.18 in favor of the model_selection module into which all the refactored classes and functions are moved. Also note that the interface of the new CV iterators are different from that of this module. This module will be removed in 0.20.\n",
            "  \"This module will be removed in 0.20.\", DeprecationWarning)\n"
          ],
          "name": "stderr"
        }
      ]
    },
    {
      "metadata": {
        "id": "Lt1B77Q9na8_",
        "colab_type": "text"
      },
      "cell_type": "markdown",
      "source": [
        "## SqueezeNet definition\n",
        "These methods define our architecture and load the weights obtained using ImageNet data."
      ]
    },
    {
      "metadata": {
        "id": "WoThzSNXna9B",
        "colab_type": "code",
        "colab": {}
      },
      "cell_type": "code",
      "source": [
        "# Fire Module Definition\n",
        "sq1x1 = \"squeeze1x1\"\n",
        "exp1x1 = \"expand1x1\"\n",
        "exp3x3 = \"expand3x3\"\n",
        "relu = \"relu_\"\n",
        "\n",
        "def fire_module(x, fire_id, squeeze=16, expand=64):\n",
        "    s_id = 'fire' + str(fire_id) + '/'\n",
        "\n",
        "    channel_axis = 3\n",
        "    \n",
        "    x = Convolution2D(squeeze, (1, 1), padding='valid', name=s_id + sq1x1)(x)\n",
        "    x = Activation('relu', name=s_id + relu + sq1x1)(x)\n",
        "\n",
        "    left = Convolution2D(expand, (1, 1), padding='valid', name=s_id + exp1x1)(x)\n",
        "    left = Activation('relu', name=s_id + relu + exp1x1)(left)\n",
        "\n",
        "    right = Convolution2D(expand, (3, 3), padding='same', name=s_id + exp3x3)(x)\n",
        "    right = Activation('relu', name=s_id + relu + exp3x3)(right)\n",
        "\n",
        "    x = concatenate([left, right], axis=channel_axis, name=s_id + 'concat')\n",
        "    return x\n",
        "\n",
        "#SqueezeNet model definition\n",
        "def SqueezeNet(input_shape):\n",
        "    img_input = Input(shape=input_shape) #placeholder\n",
        "    \n",
        "    x = Convolution2D(64, (3, 3), strides=(2, 2), padding='valid', name='conv1')(img_input)\n",
        "    x = Activation('relu', name='relu_conv1')(x)\n",
        "    x = MaxPooling2D(pool_size=(3, 3), strides=(2, 2), name='pool1')(x)\n",
        "\n",
        "    x = fire_module(x, fire_id=2, squeeze=16, expand=64)\n",
        "    x = fire_module(x, fire_id=3, squeeze=16, expand=64)\n",
        "    x = MaxPooling2D(pool_size=(3, 3), strides=(2, 2), name='pool3')(x)\n",
        "\n",
        "    x = fire_module(x, fire_id=4, squeeze=32, expand=128)\n",
        "    x = fire_module(x, fire_id=5, squeeze=32, expand=128)\n",
        "    x = MaxPooling2D(pool_size=(3, 3), strides=(2, 2), name='pool5')(x)\n",
        "\n",
        "    x = fire_module(x, fire_id=6, squeeze=48, expand=192)\n",
        "    x = fire_module(x, fire_id=7, squeeze=48, expand=192)\n",
        "    x = fire_module(x, fire_id=8, squeeze=64, expand=256)\n",
        "    x = fire_module(x, fire_id=9, squeeze=64, expand=256)\n",
        "    \n",
        "    x = Dropout(0.5, name='drop9')(x)\n",
        "\n",
        "    x = Convolution2D(1000, (1, 1), padding='valid', name='conv10')(x)\n",
        "    x = Activation('relu', name='relu_conv10')(x)\n",
        "    x = GlobalAveragePooling2D()(x)\n",
        "    x = Activation('softmax', name='loss')(x)\n",
        "\n",
        "    model = Model(img_input, x, name='squeezenet')\n",
        "\n",
        "    # Download and load ImageNet weights\n",
        "    model.load_weights('./squeezenet_weights_tf_dim_ordering_tf_kernels.h5')\n",
        "    \n",
        "    return model    "
      ],
      "execution_count": 0,
      "outputs": []
    },
    {
      "metadata": {
        "id": "uTeDvhyJna9C",
        "colab_type": "text"
      },
      "cell_type": "markdown",
      "source": [
        "## CIFAR-10\n",
        "\n",
        "The CIFAR-10 dataset consists of 60000 32x32 colour images in 10 classes, with 6000 images per class. There are 50000 training images and 10000 test images. The class are **airplane, automobile, bird, cat, deer, dog, frog, horse, ship, truck**."
      ]
    },
    {
      "metadata": {
        "id": "3HyrI_XEna9D",
        "colab_type": "code",
        "outputId": "6e4373c6-055b-4a3e-b141-03732e837fcb",
        "colab": {
          "base_uri": "https://localhost:8080/",
          "height": 274
        }
      },
      "cell_type": "code",
      "source": [
        "#Load data\n",
        "(trainVal_data, trainVal_label), (X_test, y_test) = cifar10.load_data()\n",
        "print(\"Train/Val data. X: \", trainVal_data.shape, \", Y: \", trainVal_data.shape)\n",
        "print(\"Test data. X: \", X_test.shape, \", Y: \", y_test.shape)\n",
        "\n",
        "# Prepare the data\n",
        "# Normalizes values from the range of 0-255 to 0-1.0\n",
        "print(\"Range before:\",np.amax(trainVal_data), np.amin(trainVal_data))\n",
        "trainVal_data = trainVal_data / 255\n",
        "X_test = X_test / 255\n",
        "print(\"Range after:\", np.amax(trainVal_data), np.amin(trainVal_data))\n",
        "\n",
        "# Converts to grayscale, reducing to a 1-dimensional channel\n",
        "r = np.asarray(0.299)\n",
        "g = np.asarray(0.587)\n",
        "b = np.asarray(0.114)\n",
        "trainVal_data_grayscale = r * trainVal_data[:, :, :, 0] + g * trainVal_data[:, :, :, 1] + b * trainVal_data[:, :, :, 2]\n",
        "X_test_grayscale =  r * X_test[:, :, :, 0] + g * X_test[:, :, :, 1] + b * X_test[:, :, :, 2]\n",
        "\n",
        "# Optional: Converts to 1-dimensional list with only one element (grayscale val)\n",
        "# trainVal_data_grayscale = np.expand_dims(trainVal_data_grayscale, axis=3)\n",
        "# X_test_grayscale = np.expand_dims(X_test_grayscale, axis=3)\n",
        "\n",
        "\n",
        "# Print random image\n",
        "img = np.random.randint(1, 50000)\n",
        "plt.subplot(1, 2, 1)\n",
        "plt.imshow(trainVal_data[img])\n",
        "plt.subplot(1, 2, 2)\n",
        "plt.imshow(trainVal_data_grayscale[img], cmap=plt.get_cmap('gray'))\n",
        "plt.show()\n"
      ],
      "execution_count": 41,
      "outputs": [
        {
          "output_type": "stream",
          "text": [
            "Train/Val data. X:  (50000, 32, 32, 3) , Y:  (50000, 32, 32, 3)\n",
            "Test data. X:  (10000, 32, 32, 3) , Y:  (10000, 1)\n",
            "Range before: 255 0\n",
            "Range after: 1.0 0.0\n"
          ],
          "name": "stdout"
        },
        {
          "output_type": "display_data",
          "data": {
            "image/png": "[encoded data removed]",
            "text/plain": [
              "<matplotlib.figure.Figure at 0x7f2442d1c588>"
            ]
          },
          "metadata": {
            "tags": []
          }
        }
      ]
    },
    {
      "metadata": {
        "id": "G2A1KtYMna9F",
        "colab_type": "text"
      },
      "cell_type": "markdown",
      "source": [
        "-----------------\n",
        "## SqueezeNet with frozen layers\n",
        "Our initial attempt will be to remove SqueezeNet's top layers --- responsible for the classification into ImageNet classes --- and train a new set of layers to our CIFAR-10 classes. We will also freeze the layers before `drop9`. Our architecture will be like this:\n",
        "\n",
        "<img src=\"frozenSqueezeNet.png\" width=70% height=70%>"
      ]
    },
    {
      "metadata": {
        "id": "g8K4SVuVna9G",
        "colab_type": "code",
        "colab": {}
      },
      "cell_type": "code",
      "source": [
        "squeezeNetModel = SqueezeNet((32,32,3))\n",
        "\n",
        "#freeze layers\n",
        "for layer in squeezeNetModel.layers:\n",
        "    layer.trainable = False\n",
        "\n",
        "#Add new classification layers\n",
        "# ...\n",
        "\n",
        "#new Model\n",
        "model = Model(squeezeNetModel.inputs, x, name='squeezenet_new')"
      ],
      "execution_count": 0,
      "outputs": []
    },
    {
      "metadata": {
        "id": "b9DO0NW8na9J",
        "colab_type": "text"
      },
      "cell_type": "markdown",
      "source": [
        "Now, we compile our model and train it:"
      ]
    },
    {
      "metadata": {
        "id": "-h_oB5Buna9K",
        "colab_type": "code",
        "colab": {}
      },
      "cell_type": "code",
      "source": [
        "# Compile model and train it.\n",
        "# ..."
      ],
      "execution_count": 0,
      "outputs": []
    },
    {
      "metadata": {
        "id": "6_KcOdlMna9O",
        "colab_type": "text"
      },
      "cell_type": "markdown",
      "source": [
        "Finally, let's evaluate on our test set:"
      ]
    },
    {
      "metadata": {
        "id": "KydnBIEEna9P",
        "colab_type": "code",
        "colab": {}
      },
      "cell_type": "code",
      "source": [
        "# Evaluate on validation:\n",
        "# ...\n",
        "print('Validation loss:', score[0])\n",
        "print('Validation accuracy (NORMALIZED):', score[1])"
      ],
      "execution_count": 0,
      "outputs": []
    },
    {
      "metadata": {
        "id": "tlGPz6V1na9S",
        "colab_type": "text"
      },
      "cell_type": "markdown",
      "source": [
        "-----------------\n",
        "-----------------\n",
        "\n",
        "# Training last 2 Fire Modules + classification layers\n",
        "As we could see, the frozen network performed very poorly. By freezing most layers, we do not allow SqueezeNet to adapt its weights to features present in CIFAR-10.\n",
        "\n",
        "Let's try to unfreeze the last two fire modules and train once more. The architecture will be:\n",
        "<img src=\"partFrozenSqueezeNet.png\" width=70% height=70%>"
      ]
    },
    {
      "metadata": {
        "id": "9izhouyWna9T",
        "colab_type": "code",
        "colab": {}
      },
      "cell_type": "code",
      "source": [
        "squeezeNetModel = SqueezeNet((32,32,3))\n",
        "\n",
        "print([layer.name for layer in squeezeNetModel.layers])\n",
        "\n",
        "#freeze the mentioned layers\n",
        "# ...\n",
        "\n",
        "#Add new classification layers\n",
        "# ...\n",
        "\n",
        "#new Model\n",
        "model = Model(squeezeNetModel.inputs, x, name='squeezenet_new')"
      ],
      "execution_count": 0,
      "outputs": []
    },
    {
      "metadata": {
        "id": "detzz3zYna9W",
        "colab_type": "text"
      },
      "cell_type": "markdown",
      "source": [
        "Now, we compile our model and train it:"
      ]
    },
    {
      "metadata": {
        "id": "sG-PVzzpna9W",
        "colab_type": "code",
        "colab": {}
      },
      "cell_type": "code",
      "source": [
        "#Compile model and train it\n",
        "# ..."
      ],
      "execution_count": 0,
      "outputs": []
    },
    {
      "metadata": {
        "id": "eYU1qzfana9Z",
        "colab_type": "text"
      },
      "cell_type": "markdown",
      "source": [
        "Finally, let's evaluate on our test set:"
      ]
    },
    {
      "metadata": {
        "id": "F1ie-kZena9Z",
        "colab_type": "code",
        "colab": {}
      },
      "cell_type": "code",
      "source": [
        "# Evaluate on validation.\n",
        "print('Validation loss:', score[0])\n",
        "print('Validation accuracy (NORMALIZED):', score[1])"
      ],
      "execution_count": 0,
      "outputs": []
    },
    {
      "metadata": {
        "id": "u5b3jvBFna9b",
        "colab_type": "text"
      },
      "cell_type": "markdown",
      "source": [
        "-----------\n",
        "-----------\n",
        "-----------\n",
        "# Tensorboard\n",
        "\n",
        "Tensorboard is a visualization tool for Tensorflow. Among other things, it allows us to monitor the progress of our training, plot metrics per epochs, visualize the architecture's schematics. \n",
        "\n",
        "Just like for Early Stopping, we will use the [Tensorboard callback](https://keras.io/callbacks/#tensorboard) to log the information about our training. An example of usage, would be:"
      ]
    },
    {
      "metadata": {
        "collapsed": true,
        "id": "phrs7rByna9b",
        "colab_type": "raw"
      },
      "cell_type": "markdown",
      "source": [
        "## Just an example, DON'T RUN! \n",
        "### You will need to change <<LOG_DIR>>\n",
        "import keras.callbacks as callbacks\n",
        "tbCallBack = callbacks.TensorBoard(log_dir = \"./<<LOG_DIR>>\")\n",
        "model.fit(..., callbacks=[tbCallBack])"
      ]
    },
    {
      "metadata": {
        "id": "hFak8tpgna9c",
        "colab_type": "text"
      },
      "cell_type": "markdown",
      "source": [
        "As your training progresses, Keras will log the metrics (e.g., loss, accuracy) to `<<LOG_DIR>>` (**make sure `<<LOG_DIR>>` is a valid directory)**. On your terminal, you will need to run Tensorboard, assign a port and access it via browser (just like jupyter).\n",
        "\n",
        "#### ----> MAKE SURE YOU USE A DIFFERENT PORT FOR JUPYTER AND TENSORBOARD <----\n",
        "\n",
        "### Docker\n",
        "For those using docker, open a new terminal and create a new container (using the same image) running Tensorboard:"
      ]
    },
    {
      "metadata": {
        "id": "t_HWF9hLna9d",
        "colab_type": "raw"
      },
      "cell_type": "markdown",
      "source": [
        "$ docker run -it -p <<port_host>>:<<port_container>>\n",
        "            --volume=<<LOG_DIR>>:<<LOG_DIR>>\n",
        "            --name=<<container_name>> <<docker_image>> \n",
        "            tensorboard --logdir=<<LOG_DIR>> --port=<<port_container>>"
      ]
    },
    {
      "metadata": {
        "id": "vojxKz9jna9e",
        "colab_type": "text"
      },
      "cell_type": "markdown",
      "source": [
        "For example:"
      ]
    },
    {
      "metadata": {
        "id": "03gI0CaOna9e",
        "colab_type": "raw"
      },
      "cell_type": "markdown",
      "source": [
        "$ docker run -it -p 8887:8887\n",
        "            --volume=/your/path/ml2018/:/ml2018\n",
        "            --name=mdc_container_tensorboard mdc-keras:cpu\n",
        "            tensorboard --logdir=/ml2018/logs --port=8887"
      ]
    },
    {
      "metadata": {
        "id": "TYrLChwEna9f",
        "colab_type": "text"
      },
      "cell_type": "markdown",
      "source": [
        "After starting Tensorboard, access it via browser on `http://localhost:<<port_container>>`.\n",
        "\n",
        "### Anaconda\n",
        "$ tensorboard --logdir=<<LOG_DIR>> --port=<<port>>"
      ]
    },
    {
      "metadata": {
        "id": "udmaHJwZna9g",
        "colab_type": "text"
      },
      "cell_type": "markdown",
      "source": [
        "After starting Tensorboard, access it via browser on `http://localhost:<<port>>`."
      ]
    },
    {
      "metadata": {
        "id": "AJ4QN44Fna9g",
        "colab_type": "text"
      },
      "cell_type": "markdown",
      "source": [
        "-----------\n",
        "-----------\n",
        "-----------\n",
        "\n",
        "# Fine-tuning all layers\n",
        "\n",
        "What if we fine-tune all layers of SqueezeNet?\n",
        "<img src=\"unfrozenSqueezeNet.png\" width=70% height=70%>"
      ]
    },
    {
      "metadata": {
        "id": "dOYcGb-Gna9h",
        "colab_type": "code",
        "colab": {}
      },
      "cell_type": "code",
      "source": [
        "squeezeNetModel = SqueezeNet((32,32,3))\n",
        "\n",
        "for layer in squeezeNetModel.layers:\n",
        "    layer.trainable = True       #by default they are all trainable, but just for clarification\n",
        "\n",
        "#Add new classification layers\n",
        "# ...\n",
        "\n",
        "#new Model\n",
        "model = Model(squeezeNetModel.inputs, x, name='squeezenet_new')"
      ],
      "execution_count": 0,
      "outputs": []
    },
    {
      "metadata": {
        "id": "i0n50zWzna9j",
        "colab_type": "text"
      },
      "cell_type": "markdown",
      "source": [
        "Now, we compile our model and train it:"
      ]
    },
    {
      "metadata": {
        "id": "94UDRLtRna9k",
        "colab_type": "code",
        "colab": {}
      },
      "cell_type": "code",
      "source": [
        "from time import time\n",
        "\n",
        "#Compile model\n",
        "# ...\n",
        "\n",
        "#Tensorboard callback\n",
        "#tbCallBack = TensorBoard(log_dir=\"./logs/rafa\", write_graph=True)\n",
        "tbCallBack = TensorBoard(log_dir=\"/TransferLearning/logs/{}\".format(time()), write_graph=True)\n",
        "\n",
        "#Train model\n",
        "# ..."
      ],
      "execution_count": 0,
      "outputs": []
    },
    {
      "metadata": {
        "id": "9LPRoWqdna9p",
        "colab_type": "text"
      },
      "cell_type": "markdown",
      "source": [
        "Finally, let's evaluate on our validation set:"
      ]
    },
    {
      "metadata": {
        "id": "5eUEciw4na9q",
        "colab_type": "code",
        "colab": {}
      },
      "cell_type": "code",
      "source": [
        "# Evaluate on validation\n",
        "# ...\n",
        "print('Validation loss:', score[0])\n",
        "print('Validation accuracy (NORMALIZED):', score[1])"
      ],
      "execution_count": 0,
      "outputs": []
    },
    {
      "metadata": {
        "id": "YhoibUpBna9s",
        "colab_type": "code",
        "colab": {}
      },
      "cell_type": "code",
      "source": [
        "# Evaluate your best model on test\n",
        "# ..."
      ],
      "execution_count": 0,
      "outputs": []
    },
    {
      "metadata": {
        "id": "2sLJLatZna9v",
        "colab_type": "text"
      },
      "cell_type": "markdown",
      "source": [
        "## Saving the model\n",
        "Now that we are working on more complex tasks and our trainings are starting to take more time it is usually a good idea to save the trained model from time to time. [Keras has a lot of ways of saving and loading the model](https://keras.io/getting-started/faq/#how-can-i-save-a-keras-model), but in this exercise we will use the simplest of them all: `model.save()`. It saves the architecture, the weights, the choice of loss function/optimizer/metrics and even the current state of the training, so you can resume your training later."
      ]
    },
    {
      "metadata": {
        "id": "UPfTZrYjna9w",
        "colab_type": "code",
        "colab": {}
      },
      "cell_type": "code",
      "source": [
        "model.save('my_model.h5')  # creates a HDF5 file 'my_model.h5'"
      ],
      "execution_count": 0,
      "outputs": []
    },
    {
      "metadata": {
        "id": "rQH099IEna9x",
        "colab_type": "text"
      },
      "cell_type": "markdown",
      "source": [
        "## Loading a model\n",
        "Once we have our model trained, we can load it using:"
      ]
    },
    {
      "metadata": {
        "id": "OSv91Xm7na9z",
        "colab_type": "code",
        "colab": {}
      },
      "cell_type": "code",
      "source": [
        "from keras.models import load_model\n",
        "\n",
        "del model  # Will delete model, only to check if load_model is working\n",
        "\n",
        "# returns a compiled model identical to the previous one\n",
        "model = load_model('my_model.h5')\n",
        "\n",
        "# evaluate test set again... should give us the same result\n",
        "# ...\n",
        "print('Test loss:', score[0])\n",
        "print('Test accuracy (NORMALIZED):', score[1])"
      ],
      "execution_count": 0,
      "outputs": []
    },
    {
      "metadata": {
        "id": "EONHjh1hna91",
        "colab_type": "code",
        "colab": {}
      },
      "cell_type": "code",
      "source": [
        ""
      ],
      "execution_count": 0,
      "outputs": []
    }
  ]
}