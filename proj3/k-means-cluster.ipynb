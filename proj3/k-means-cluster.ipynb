{
 "cells": [
  {
   "cell_type": "markdown",
   "metadata": {},
   "source": [
    "# Before Running\n",
    "Add files health.txt, bags.csv and word2vec.csv to the health-dataset folder.\n",
    "\n",
    "# Introduction\n",
    "Here, we'll explore k-means clustering algorithm applied to health news in twitter."
   ]
  },
  {
   "cell_type": "code",
   "execution_count": 54,
   "metadata": {},
   "outputs": [],
   "source": [
    "import csv\n",
    "import numpy as np\n",
    "import matplotlib.pyplot as plt\n",
    "import pandas as pd\n",
    "from sklearn.linear_model import LogisticRegression\n",
    "from sklearn.cluster import KMeans"
   ]
  },
  {
   "cell_type": "code",
   "execution_count": 55,
   "metadata": {},
   "outputs": [],
   "source": [
    "def load_health_data():\n",
    "    return pd.read_csv('health-dataset/health.txt', sep='|')"
   ]
  },
  {
   "cell_type": "markdown",
   "metadata": {},
   "source": [
    "Opening and first look at the dataset"
   ]
  },
  {
   "cell_type": "code",
   "execution_count": 56,
   "metadata": {},
   "outputs": [
    {
     "name": "stdout",
     "output_type": "stream",
     "text": [
      "['publish_date', 'headline_text']\n"
     ]
    }
   ],
   "source": [
    "health_df = load_health_data()\n",
    "health_df = health_df.drop(['id'], axis=1)\n",
    "print(list(health_df))"
   ]
  },
  {
   "cell_type": "markdown",
   "metadata": {},
   "source": [
    "Delete words without meaningful information for our context"
   ]
  },
  {
   "cell_type": "code",
   "execution_count": 57,
   "metadata": {},
   "outputs": [],
   "source": [
    "for index, row in health_df.iterrows():\n",
    "    word_list = row['headline_text'].split()\n",
    "    deleted_words=[\"RT\", \"a\", \"are\", \"it\", \"the\", \"she\", \"you\", \"of\", \"to\", \"that's\", \"-\", \"on\", \"I\", \"he\"]\n",
    "    row['headline_text'] = ' '.join([word for word in word_list if word not in deleted_words])"
   ]
  },
  {
   "cell_type": "code",
   "execution_count": 58,
   "metadata": {},
   "outputs": [
    {
     "name": "stdout",
     "output_type": "stream",
     "text": [
      "                         publish_date  \\\n",
      "0      Sat Mar 14 23:00:11 +0000 2015   \n",
      "1      Sat Mar 14 19:00:08 +0000 2015   \n",
      "2      Sat Mar 14 14:00:15 +0000 2015   \n",
      "3      Sat Mar 14 13:28:52 +0000 2015   \n",
      "4      Sat Mar 14 13:28:18 +0000 2015   \n",
      "5      Sat Mar 14 01:00:17 +0000 2015   \n",
      "6      Fri Mar 13 23:00:22 +0000 2015   \n",
      "7      Fri Mar 13 21:24:57 +0000 2015   \n",
      "8      Fri Mar 13 20:00:18 +0000 2015   \n",
      "9      Fri Mar 13 19:27:27 +0000 2015   \n",
      "10     Fri Mar 13 18:00:23 +0000 2015   \n",
      "11     Fri Mar 13 16:00:27 +0000 2015   \n",
      "12     Fri Mar 13 15:35:18 +0000 2015   \n",
      "13     Fri Mar 13 14:00:32 +0000 2015   \n",
      "14     Fri Mar 13 12:51:57 +0000 2015   \n",
      "15     Fri Mar 13 12:36:01 +0000 2015   \n",
      "16     Fri Mar 13 12:07:02 +0000 2015   \n",
      "17     Fri Mar 13 12:06:34 +0000 2015   \n",
      "18     Fri Mar 13 11:33:59 +0000 2015   \n",
      "19     Fri Mar 13 11:33:20 +0000 2015   \n",
      "20     Fri Mar 13 11:24:11 +0000 2015   \n",
      "21     Fri Mar 13 06:22:05 +0000 2015   \n",
      "22     Fri Mar 13 02:00:07 +0000 2015   \n",
      "23     Fri Mar 13 00:00:17 +0000 2015   \n",
      "24     Thu Mar 12 22:00:18 +0000 2015   \n",
      "25     Thu Mar 12 21:00:14 +0000 2015   \n",
      "26     Thu Mar 12 20:00:22 +0000 2015   \n",
      "27     Thu Mar 12 19:39:01 +0000 2015   \n",
      "28     Thu Mar 12 19:00:25 +0000 2015   \n",
      "29     Thu Mar 12 16:00:26 +0000 2015   \n",
      "...                               ...   \n",
      "13199  Thu Oct 03 15:47:52 +0000 2013   \n",
      "13200  Thu Oct 03 11:48:16 +0000 2013   \n",
      "13201  Thu Oct 03 09:52:08 +0000 2013   \n",
      "13202  Thu Oct 03 00:29:18 +0000 2013   \n",
      "13203  Wed Oct 02 14:56:06 +0000 2013   \n",
      "13204  Wed Oct 02 11:55:22 +0000 2013   \n",
      "13205  Wed Oct 02 06:53:18 +0000 2013   \n",
      "13206  Wed Oct 02 06:53:18 +0000 2013   \n",
      "13207  Tue Oct 01 22:06:54 +0000 2013   \n",
      "13208  Tue Oct 01 15:30:46 +0000 2013   \n",
      "13209  Tue Oct 01 15:30:46 +0000 2013   \n",
      "13210  Tue Oct 01 14:42:39 +0000 2013   \n",
      "13211  Tue Oct 01 13:09:14 +0000 2013   \n",
      "13212  Tue Oct 01 11:38:05 +0000 2013   \n",
      "13213  Tue Oct 01 11:38:04 +0000 2013   \n",
      "13214  Tue Oct 01 11:38:04 +0000 2013   \n",
      "13215  Tue Oct 01 10:49:48 +0000 2013   \n",
      "13216  Tue Oct 01 09:19:48 +0000 2013   \n",
      "13217  Tue Oct 01 09:19:48 +0000 2013   \n",
      "13218  Tue Oct 01 07:49:09 +0000 2013   \n",
      "13219  Tue Oct 01 02:46:32 +0000 2013   \n",
      "13220  Tue Oct 01 00:42:04 +0000 2013   \n",
      "13221  Tue Oct 01 00:42:04 +0000 2013   \n",
      "13222  Tue Oct 01 00:42:04 +0000 2013   \n",
      "13223  Mon Sep 30 23:59:53 +0000 2013   \n",
      "13224  Mon Sep 30 19:45:43 +0000 2013   \n",
      "13225  Mon Sep 30 15:24:17 +0000 2013   \n",
      "13226  Mon Sep 30 13:58:06 +0000 2013   \n",
      "13227  Mon Sep 30 13:58:06 +0000 2013   \n",
      "13228  Mon Sep 30 06:44:59 +0000 2013   \n",
      "\n",
      "                                           headline_text  \n",
      "0      An abundance online info can turn us into e-hy...  \n",
      "1      A plant-based diet that incorporates fish may ...  \n",
      "2      It doesn't take much damage your hearing at sp...  \n",
      "3      @CNN: Forever young? Discover this island’s se...  \n",
      "4      @CNN: Is post-traumatic stress disorder in you...  \n",
      "5      Maysoon Zayid, touring standup comic with Cere...  \n",
      "6      How women can wipe out Alzheimer's, from @mari...  \n",
      "7      @CNNOpinion: Women can defeat #Alzheimers, say...  \n",
      "8                       Is time raise legal smoking age?  \n",
      "9      CDC: Misuse garments may have led release biot...  \n",
      "10     Losing brain tumor, gaining perspective: CNN's...  \n",
      "11     You may be your germs: Microbe genes slipped i...  \n",
      "12     @CNN: A plant-based diet that incorporates fis...  \n",
      "13     #FitNation: Finding right life balance between...  \n",
      "14     Robert Downey Jr. presents child with his own ...  \n",
      "15     @cnntech: Tim Cook tried give Steve Jobs his l...  \n",
      "16     @drsanjaygupta: what having for dinner? lot mo...  \n",
      "17     @cnnbrk: U.S. Ebola patient headed National In...  \n",
      "18     @cnni: Eat yourself healthy with these amazing...  \n",
      "19     @CNNMoney: This computer can diagnose cancer. ...  \n",
      "20     @CNN: .@RobertDowneyJr presented child with hi...  \n",
      "21          @TIME: The hidden dangers being ‘skinny fat’  \n",
      "22     Kids = constant ear infections. Save yourself ...  \n",
      "23     Are an e-hypochondriac? Searching symptoms onl...  \n",
      "24     Training for triathlon? These yoga poses can h...  \n",
      "25     Battling eliminate elephantiasis, parasite tha...  \n",
      "26     Could simple blood test someday tell if you're...  \n",
      "27     @CNN: Explore secrets Ikaria #TheWonderList wi...  \n",
      "28     Ear trouble? Save yourself trip ER. One startu...  \n",
      "29     Is mustard better for than ketchup? @drsanjayg...  \n",
      "...                                                  ...  \n",
      "13199               Tobacco-free plan for Irish Republic  \n",
      "13200          VIDEO: Disabled students 'need more help'  \n",
      "13201                   NHS IT staff 'hopeful' about fix  \n",
      "13202                GP services 'face cuts catastrophe'  \n",
      "13203                     Baby brain research unit opens  \n",
      "13204             VIDEO: PM tells Labour not lecture NHS  \n",
      "13205          VIDEO: Exercise 'can be as good as pills'  \n",
      "13206                  Health board fails fix IT problem  \n",
      "13207                   Major IT problem at health board  \n",
      "13208                   Changes help NHS 'balance books'  \n",
      "13209                    'Urgent action' needed child TB  \n",
      "13210        VIDEO: Campbell's Tory alcohol pricing call  \n",
      "13211                Legionella 'in many' compost brands  \n",
      "13212              Is safe drink cocktails with raw egg?  \n",
      "13213                      Sweden is 'best place be old'  \n",
      "13214                    Big rise in number centenarians  \n",
      "13215                  Pupils breakfasting energy drinks  \n",
      "13216         VIDEO: 'Tooth in my eye restored my sight'  \n",
      "13217                   Indecent images nurse struck off  \n",
      "13218               Criticism over health debate no-show  \n",
      "13219                 PM promises more flexible GP hours  \n",
      "13220                Mid-life stress 'precedes dementia'  \n",
      "13221               Breast cancer 'research gap' warning  \n",
      "13222                    Global war drugs failing report  \n",
      "13223              VIDEO: 'I thought was death sentence'  \n",
      "13224               Baby born after ovaries 'reawakened'  \n",
      "13225               Identical triplets born against odds  \n",
      "13226                  Hospital failed make improvements  \n",
      "13227                 New patient targets pledge for NHS  \n",
      "13228                C. diff 'manslaughter' inquiry call  \n",
      "\n",
      "[13229 rows x 2 columns]\n"
     ]
    }
   ],
   "source": [
    "print(health_df)"
   ]
  },
  {
   "cell_type": "code",
   "execution_count": null,
   "metadata": {},
   "outputs": [],
   "source": []
  }
 ],
 "metadata": {
  "kernelspec": {
   "display_name": "Python 3",
   "language": "python",
   "name": "python3"
  },
  "language_info": {
   "codemirror_mode": {
    "name": "ipython",
    "version": 3
   },
   "file_extension": ".py",
   "mimetype": "text/x-python",
   "name": "python",
   "nbconvert_exporter": "python",
   "pygments_lexer": "ipython3",
   "version": "3.6.5"
  }
 },
 "nbformat": 4,
 "nbformat_minor": 2
}
