{
 "cells": [
  {
   "cell_type": "markdown",
   "metadata": {},
   "source": [
    "# Objective\n",
    "\n",
    "Here, we'll run through our training data to gather information and try to achieve the best possible model"
   ]
  },
  {
   "cell_type": "code",
   "execution_count": 1,
   "metadata": {},
   "outputs": [],
   "source": [
    "import numpy as np\n",
    "from sklearn.linear_model import LogisticRegression\n",
    "import csv\n",
    "import pandas as pd\n",
    "import time\n",
    "import sklearn.metrics as metrics"
   ]
  },
  {
   "cell_type": "code",
   "execution_count": 8,
   "metadata": {},
   "outputs": [],
   "source": [
    "# Functions\n",
    "\n",
    "def addColumnThetaZero (array):\n",
    "    return np.c_[np.ones(array.shape[0]), array]\n",
    "\n",
    "def formatArray (dataFrame, columnToExtract) :\n",
    "    array = dataFrame.values\n",
    "    target = array[:,columnToExtract]\n",
    "    params = np.delete(array, columnToExtract, axis = 1)\n",
    "    return params, target\n",
    "\n",
    "def loadFashionTrainData():\n",
    "    return pd.read_csv(\"fashion-mnist-dataset/fashion-mnist_train.csv\")\n",
    "\n",
    "def loadFashionTestData():\n",
    "    return pd.read_csv(\"fashion-mnist-dataset/fashion-mnist_test.csv\")\n",
    "\n",
    "def split_train_test(data, test_ratio):\n",
    "    np.random.seed(42)\n",
    "    shuffled_indices = np.random.permutation(len(data))\n",
    "    test_set_size = int(len(data) * test_ratio)\n",
    "    test_indices = shuffled_indices[:test_set_size]\n",
    "    train_indices = shuffled_indices[test_set_size:]\n",
    "    return data.iloc[train_indices], data.iloc[test_indices]\n",
    "\n",
    "def regressionLogisticCostFunction (results, model, X):\n",
    "    agaTheta = model.predict_proba(X)\n",
    "    n = X.shape[0]\n",
    "    diference = results - agaTheta\n",
    "    squareDiference = diference * diference\n",
    "    return (np.sum(squareDiference)/(2*n))\n",
    "\n",
    "def createTarget (target):\n",
    "    results = np.zeros((target.size, 10), dtype=int)\n",
    "    for i in range(10):\n",
    "        for j in range(target.size):\n",
    "            if (target[j] != i):\n",
    "                results[j][i - 1] = 0\n",
    "            else:\n",
    "                results[j][i - 1] = 1\n",
    "    return results\n"
   ]
  },
  {
   "cell_type": "markdown",
   "metadata": {},
   "source": [
    "# The dataset\n",
    "\n",
    "First and foremost, we'll open train and test data. The training data is split to obtain validation items and the the target values are also separated from the original data. Also, added a column for Bias.\n"
   ]
  },
  {
   "cell_type": "code",
   "execution_count": 9,
   "metadata": {},
   "outputs": [],
   "source": [
    "fashionTrainDataset = loadFashionTrainData()\n",
    "fashionTestDataset = loadFashionTestData()\n",
    "\n",
    "trainSet, validationSet = split_train_test(fashionTrainDataset, 0.2)\n",
    "\n",
    "fashionTrainParams, fashionTrainTarget = formatArray(trainSet, 0)\n",
    "fashionValidationSetParams, fashionValidationSetTarget = formatArray(validationSet, 0)\n",
    "fashionTestParams, fashionTestTarget = formatArray (fashionTestDataset)\n",
    "trainTarget = createTarget(fashionTrainTarget)\n",
    "\n",
    "fashionTrainParams = addColumnThetaZero(fashionTrainParams)\n",
    "fashionValidationSetParams = addColumnThetaZero(fashionValidationSetParams)\n",
    "fashionTestParams = addColumnThetaZero(fashionTestParams)"
   ]
  },
  {
   "cell_type": "markdown",
   "metadata": {},
   "source": [
    "# Logistic Regression 1\n",
    "- Multi-class choice: Multinomial\n",
    "- Solver: Newton-CG\n",
    "- Max Iteration: 10"
   ]
  },
  {
   "cell_type": "code",
   "execution_count": 12,
   "metadata": {},
   "outputs": [
    {
     "name": "stdout",
     "output_type": "stream",
     "text": [
      "24.050830000000005\n",
      "Score : 0.85175\n",
      "0.85175\n",
      "(array([0.80844156, 0.95741056, 0.76583333, 0.8784219 , 0.77552743,\n",
      "       0.90184049, 0.59292035, 0.94689542, 0.95213229, 0.95289256]), array([0.81639344, 0.96315338, 0.76328904, 0.84639255, 0.72476341,\n",
      "       0.9440367 , 0.65921288, 0.91838352, 0.94391717, 0.9427637 ]), array([0.81239804, 0.96027339, 0.76455907, 0.86210984, 0.74928659,\n",
      "       0.9224563 , 0.62431173, 0.93242156, 0.94800693, 0.94780107]), array([1220, 1167, 1204, 1289, 1268, 1090, 1118, 1262, 1159, 1223]))\n",
      "0.8858244965330608\n"
     ]
    },
    {
     "name": "stderr",
     "output_type": "stream",
     "text": [
      "/home/igoromote/anaconda3/lib/python3.6/site-packages/sklearn/utils/optimize.py:203: ConvergenceWarning: newton-cg failed to converge. Increase the number of iterations.\n",
      "  \"number of iterations.\", ConvergenceWarning)\n"
     ]
    }
   ],
   "source": [
    "penalt = 'l2'\n",
    "solverMode = 'newton-cg'\n",
    "maxIter = 10\n",
    "multiClass = 'multinomial'\n",
    "\n",
    "logisticModel = LogisticRegression(max_iter = maxIter, multi_class = multiClass, solver = solverMode, penalty = penalt)\n",
    "\n",
    "start = time.clock()\n",
    "logisticModel.fit(fashionTrainParams, fashionTrainTarget)\n",
    "print (time.clock() - start)\n",
    "\n",
    "print(\"Score : \"+ str(logisticModel.score(fashionValidationSetParams, fashionValidationSetTarget)))\n",
    "print(metrics.accuracy_score(logisticModel.predict(fashionValidationSetParams), fashionValidationSetTarget))\n",
    "print(metrics.precision_recall_fscore_support(logisticModel.predict(fashionValidationSetParams), fashionValidationSetTarget))\n",
    "costFunction = regressionLogisticCostFunction(trainTarget, logisticModel, fashionTrainParams)\n",
    "print (costFunction)\n"
   ]
  },
  {
   "cell_type": "markdown",
   "metadata": {},
   "source": [
    "# Logistic Regression 2\n",
    "- Multi-class choice: Multinomial\n",
    "- Solver: Newton-CG\n",
    "- Max Iteration: 100"
   ]
  },
  {
   "cell_type": "code",
   "execution_count": 13,
   "metadata": {},
   "outputs": [
    {
     "name": "stdout",
     "output_type": "stream",
     "text": [
      "1835.302801\n",
      "Score : 0.8318333333333333\n",
      "0.8318333333333333\n",
      "(array([0.79788961, 0.95655877, 0.75166667, 0.84782609, 0.76371308,\n",
      "       0.89833479, 0.5695897 , 0.91666667, 0.91122715, 0.92066116]), array([0.78202068, 0.92276089, 0.75734677, 0.83704293, 0.73160873,\n",
      "       0.90788308, 0.63554758, 0.90048154, 0.90727903, 0.93065998]), array([0.78987545, 0.93935592, 0.75449603, 0.8424    , 0.74731627,\n",
      "       0.9030837 , 0.60076368, 0.90850202, 0.90924881, 0.92563357]), array([1257, 1217, 1191, 1258, 1237, 1129, 1114, 1246, 1154, 1197]))\n",
      "0.910184608984921\n"
     ]
    },
    {
     "name": "stderr",
     "output_type": "stream",
     "text": [
      "/home/igoromote/anaconda3/lib/python3.6/site-packages/sklearn/utils/optimize.py:203: ConvergenceWarning: newton-cg failed to converge. Increase the number of iterations.\n",
      "  \"number of iterations.\", ConvergenceWarning)\n"
     ]
    }
   ],
   "source": [
    "penalt = 'l2'\n",
    "solverMode = 'newton-cg'\n",
    "maxIter = 100\n",
    "multiClass = 'multinomial'\n",
    "\n",
    "logisticModel2 = LogisticRegression(max_iter = maxIter, multi_class = multiClass, solver = solverMode)\n",
    "\n",
    "start = time.clock()\n",
    "logisticModel2.fit(fashionTrainParams, fashionTrainTarget)\n",
    "print (time.clock() - start)\n",
    "\n",
    "print(\"Score : \"+ str(logisticModel2.score(fashionValidationSetParams, fashionValidationSetTarget)))\n",
    "print(metrics.accuracy_score(logisticModel2.predict(fashionValidationSetParams), fashionValidationSetTarget))\n",
    "print(metrics.precision_recall_fscore_support(logisticModel2.predict(fashionValidationSetParams), fashionValidationSetTarget))\n",
    "\n",
    "costFunction2 = regressionLogisticCostFunction(trainTarget, logisticModel2, fashionTrainParams)\n",
    "print (costFunction2)"
   ]
  },
  {
   "cell_type": "markdown",
   "metadata": {},
   "source": [
    "# Logistic Regression 3\n",
    "- Multi-class choice: Multinomial\n",
    "- Solver: Newton-CG\n",
    "- Max Iteration: 1000"
   ]
  },
  {
   "cell_type": "code",
   "execution_count": null,
   "metadata": {},
   "outputs": [],
   "source": [
    "penalt = 'l2'\n",
    "solverMode = 'newton-cg'\n",
    "maxIter = 500\n",
    "multiClass = 'multinomial'\n",
    "\n",
    "logisticModel3 = LogisticRegression(max_iter = maxIter, multi_class = multiClass, solver = solverMode)\n",
    "\n",
    "start = time.clock()\n",
    "logisticModel3.fit(fashionTrainParams, fashionTrainTarget)\n",
    "print (time.clock() - start)\n",
    "\n",
    "print(\"Score : \"+ str(logisticModel3.score(fashionValidationSetParams, fashionValidationSetTarget)))\n",
    "print(metrics.accuracy_score(logisticModel3.predict(fashionValidationSetParams), fashionValidationSetTarget))\n",
    "print(metrics.precision_recall_fscore_support(logisticModel3.predict(fashionValidationSetParams), fashionValidationSetTarget))\n",
    "\n",
    "costFunction3 = regressionLogisticCostFunction(trainTarget, logisticModel3, fashionTrainParams)\n",
    "print (costFunction3)"
   ]
  },
  {
   "cell_type": "markdown",
   "metadata": {},
   "source": [
    "# Logistic Regression 4\n",
    "- Multi-class choice: Multinomial\n",
    "- Solver: SAG\n",
    "- Max Iteration: 10"
   ]
  },
  {
   "cell_type": "code",
   "execution_count": null,
   "metadata": {},
   "outputs": [],
   "source": [
    "penalt = 'l2'\n",
    "solverMode = 'sag'\n",
    "maxIter = 10\n",
    "multiClass = 'multinomial'\n",
    "\n",
    "logisticModel4 = LogisticRegression(max_iter = maxIter, multi_class = multiClass, solver = solverMode)\n",
    "\n",
    "start = time.clock()\n",
    "logisticModel4.fit(fashionTrainParams, fashionTrainTarget)\n",
    "print (time.clock() - start)\n",
    "\n",
    "print(\"Score : \"+ str(logisticModel4.score(fashionValidationSetParams, fashionValidationSetTarget)))\n",
    "print(metrics.accuracy_score(logisticModel4.predict(fashionValidationSetParams), fashionValidationSetTarget))\n",
    "print(metrics.precision_recall_fscore_support(logisticModel4.predict(fashionValidationSetParams), fashionValidationSetTarget))\n",
    "\n",
    "costFunction4 = regressionLogisticCostFunction(trainTarget, logisticModel4, fashionTrainParams)\n",
    "print (costFunction4)"
   ]
  },
  {
   "cell_type": "markdown",
   "metadata": {},
   "source": [
    "# Logistic Regression 5\n",
    "- Multi-class choice: Multinomial\n",
    "- Solver: SAG\n",
    "- Max Iteration: 100"
   ]
  },
  {
   "cell_type": "code",
   "execution_count": null,
   "metadata": {},
   "outputs": [],
   "source": [
    "penalt = 'l2'\n",
    "solverMode = 'sag'\n",
    "maxIter = 100\n",
    "multiClass = 'multinomial'\n",
    "\n",
    "logisticModel5 = LogisticRegression(max_iter = maxIter, multi_class = multiClass, solver = solverMode)\n",
    "\n",
    "start = time.clock()\n",
    "logisticModel5.fit(fashionTrainParams, fashionTrainTarget)\n",
    "print (time.clock() - start)\n",
    "\n",
    "print(\"Score : \"+ str(logisticModel5.score(fashionValidationSetParams, fashionValidationSetTarget)))\n",
    "print(metrics.accuracy_score(logisticModel5.predict(fashionValidationSetParams), fashionValidationSetTarget))\n",
    "print(metrics.precision_recall_fscore_support(logisticModel5.predict(fashionValidationSetParams), fashionValidationSetTarget))\n",
    "\n",
    "costFunction5 = regressionLogisticCostFunction(trainTarget, logisticModel5, fashionTrainParams)\n",
    "print (costFunction6)"
   ]
  },
  {
   "cell_type": "markdown",
   "metadata": {},
   "source": [
    "# Logistic Regression 6\n",
    "- Multi-class choice: Multinomial\n",
    "- Solver: SAG\n",
    "- Max Iteration: 500"
   ]
  },
  {
   "cell_type": "code",
   "execution_count": null,
   "metadata": {},
   "outputs": [],
   "source": [
    "penalt = 'l2'\n",
    "solverMode = 'sag'\n",
    "maxIter = 500\n",
    "multiClass = 'multinomial'\n",
    "\n",
    "logisticModel6 = LogisticRegression(max_iter = maxIter, multi_class = multiClass, solver = solverMode)\n",
    "\n",
    "start = time.clock()\n",
    "logisticModel6.fit(fashionTrainParams, fashionTrainTarget)\n",
    "print (time.clock() - start)\n",
    "\n",
    "print(\"Score : \"+ str(logisticModel6.score(fashionValidationSetParams, fashionValidationSetTarget)))\n",
    "print(metrics.accuracy_score(logisticModel6.predict(fashionValidationSetParams), fashionValidationSetTarget))\n",
    "print(metrics.precision_recall_fscore_support(logisticModel6.predict(fashionValidationSetParams), fashionValidationSetTarget))\n",
    "\n",
    "costFunction6 = regressionLogisticCostFunction(trainTarget, logisticModel6, fashionTrainParams)\n",
    "print (costFunction6)"
   ]
  },
  {
   "cell_type": "markdown",
   "metadata": {},
   "source": [
    "# Logistic Regression 7\n",
    "- Multi-class choice: One vs All\n",
    "- Solver: Newton-CG\n",
    "- Max Iteration: 10"
   ]
  },
  {
   "cell_type": "code",
   "execution_count": null,
   "metadata": {},
   "outputs": [],
   "source": [
    "penalt = 'l2'\n",
    "solverMode = 'newton-cg'\n",
    "maxIter = 10\n",
    "multiClass = 'ovr'\n",
    "\n",
    "logisticModel7 = LogisticRegression(max_iter = maxIter, multi_class = multiClass, solver = solverMode)\n",
    "\n",
    "start = time.clock()\n",
    "logisticModel7.fit(fashionTrainParams, fashionTrainTarget)\n",
    "print (time.clock() - start)\n",
    "\n",
    "print(\"Score : \"+ str(logisticModel7.score(fashionValidationSetParams, fashionValidationSetTarget)))\n",
    "print(metrics.accuracy_score(logisticModel7.predict(fashionValidationSetParams), fashionValidationSetTarget))\n",
    "print(metrics.precision_recall_fscore_support(logisticModel7.predict(fashionValidationSetParams), fashionValidationSetTarget))\n",
    "\n",
    "costFunction7 = regressionLogisticCostFunction(trainTarget, logisticModel7, fashionTrainParams)\n",
    "print (costFunction7)"
   ]
  },
  {
   "cell_type": "markdown",
   "metadata": {},
   "source": [
    "# Logistic Regression 8\n",
    "- Multi-class choice: One vs All\n",
    "- Solver: Newton-CG\n",
    "- Max Iteration: 100"
   ]
  },
  {
   "cell_type": "code",
   "execution_count": null,
   "metadata": {},
   "outputs": [],
   "source": [
    "penalt = 'l2'\n",
    "solverMode = 'newton-cg'\n",
    "maxIter = 100\n",
    "multiClass = 'ovr'\n",
    "\n",
    "logisticModel8 = LogisticRegression(max_iter = maxIter, multi_class = multiClass, solver = solverMode)\n",
    "\n",
    "start = time.clock()\n",
    "logisticModel8.fit(fashionTrainParams, fashionTrainTarget)\n",
    "print (time.clock() - start)\n",
    "\n",
    "print(\"Score : \"+ str(logisticModel8.score(fashionValidationSetParams, fashionValidationSetTarget)))\n",
    "print(metrics.accuracy_score(logisticModel8.predict(fashionValidationSetParams), fashionValidationSetTarget))\n",
    "print(metrics.precision_recall_fscore_support(logisticModel8.predict(fashionValidationSetParams), fashionValidationSetTarget))\n",
    "\n",
    "costFunction8 = regressionLogisticCostFunction(trainTarget, logisticModel8, fashionTrainParams)\n",
    "print (costFunction8)"
   ]
  },
  {
   "cell_type": "markdown",
   "metadata": {},
   "source": [
    "# Logistic Regression 9\n",
    "- Multi-class choice: One vs All\n",
    "- Solver: Newton-CG\n",
    "- Max Iteration: 500"
   ]
  },
  {
   "cell_type": "code",
   "execution_count": null,
   "metadata": {},
   "outputs": [],
   "source": [
    "penalt = 'l2'\n",
    "solverMode = 'newton-cg'\n",
    "maxIter = 500\n",
    "multiClass = 'ovr'\n",
    "\n",
    "logisticModel9 = LogisticRegression(max_iter = maxIter, multi_class = multiClass, solver = solverMode)\n",
    "\n",
    "start = time.clock()\n",
    "logisticModel11.fit(fashionTrainParams, fashionTrainTarget)\n",
    "print (time.clock() - start)\n",
    "\n",
    "print(\"Score : \"+ str(logisticModel9.score(fashionValidationSetParams, fashionValidationSetTarget)))\n",
    "print(metrics.accuracy_score(logisticModel9.predict(fashionValidationSetParams), fashionValidationSetTarget))\n",
    "print(metrics.precision_recall_fscore_support(logisticModel9.predict(fashionValidationSetParams), fashionValidationSetTarget))\n",
    "\n",
    "costFunction9 = regressionLogisticCostFunction(trainTarget, logisticModel9, fashionTrainParams)\n",
    "print (costFunction9)"
   ]
  },
  {
   "cell_type": "markdown",
   "metadata": {},
   "source": [
    "# Logistic Regression 10\n",
    "- Multi-class choice: One vs All\n",
    "- Solver: SAG\n",
    "- Max Iteration: 10"
   ]
  },
  {
   "cell_type": "code",
   "execution_count": null,
   "metadata": {},
   "outputs": [],
   "source": [
    "penalt = 'l2'\n",
    "solverMode = 'sag'\n",
    "maxIter = 10\n",
    "multiClass = 'ovr'\n",
    "\n",
    "logisticModel10 = LogisticRegression(max_iter = maxIter, multi_class = multiClass, solver = solverMode)\n",
    "\n",
    "start = time.clock()\n",
    "logisticModel10.fit(fashionTrainParams, fashionTrainTarget)\n",
    "print (time.clock() - start)\n",
    "\n",
    "print(\"Score : \"+ str(logisticModel10.score(fashionValidationSetParams, fashionValidationSetTarget)))\n",
    "print(metrics.accuracy_score(logisticModel10.predict(fashionValidationSetParams), fashionValidationSetTarget))\n",
    "print(metrics.precision_recall_fscore_support(logisticModel10.predict(fashionValidationSetParams), fashionValidationSetTarget))\n",
    "\n",
    "costFunction10 = regressionLogisticCostFunction(trainTarget, logisticModel10, fashionTrainParams)\n",
    "print (costFunction10)"
   ]
  },
  {
   "cell_type": "markdown",
   "metadata": {},
   "source": [
    "# Logistic Regression 11\n",
    "- Multi-class choice: One vs All\n",
    "- Solver: SAG\n",
    "- Max Iteration: 100"
   ]
  },
  {
   "cell_type": "code",
   "execution_count": null,
   "metadata": {},
   "outputs": [],
   "source": [
    "penalt = 'l2'\n",
    "solverMode = 'sag'\n",
    "maxIter = 100\n",
    "multiClass = 'ovr'\n",
    "\n",
    "logisticModel11 = LogisticRegression(max_iter = maxIter, multi_class = multiClass, solver = solverMode)\n",
    "\n",
    "start = time.clock()\n",
    "logisticModel11.fit(fashionTrainParams, fashionTrainTarget)\n",
    "print (time.clock() - start)\n",
    "\n",
    "print(\"Score : \"+ str(logisticModel11.score(fashionValidationSetParams, fashionValidationSetTarget)))\n",
    "print(metrics.accuracy_score(logisticModel11.predict(fashionValidationSetParams), fashionValidationSetTarget))\n",
    "print(metrics.precision_recall_fscore_support(logisticModel11.predict(fashionValidationSetParams), fashionValidationSetTarget))\n",
    "\n",
    "costFunction11 = regressionLogisticCostFunction(trainTarget, logisticModel11, fashionTrainParams)\n",
    "print (costFunction11)"
   ]
  },
  {
   "cell_type": "markdown",
   "metadata": {},
   "source": [
    "# Logistic Regression 12\n",
    "- Multi-class choice: One vs All\n",
    "- Solver: SAG\n",
    "- Max Iteration: 500"
   ]
  },
  {
   "cell_type": "code",
   "execution_count": null,
   "metadata": {},
   "outputs": [],
   "source": [
    "penalt = 'l2'\n",
    "solverMode = 'sag'\n",
    "maxIter = 500\n",
    "multiClass = 'ovr'\n",
    "\n",
    "logisticModel12 = LogisticRegression(max_iter = maxIter, multi_class = multiClass, solver = solverMode)\n",
    "\n",
    "start = time.clock()\n",
    "logisticModel12.fit(fashionTrainParams, fashionTrainTarget)\n",
    "print (time.clock() - start)\n",
    "\n",
    "print(\"Score : \"+ str(logisticModel12.score(fashionValidationSetParams, fashionValidationSetTarget)))\n",
    "print(metrics.accuracy_score(logisticModel12.predict(fashionValidationSetParams), fashionValidationSetTarget))\n",
    "print(metrics.precision_recall_fscore_support(logisticModel12.predict(fashionValidationSetParams), fashionValidationSetTarget))\n",
    "\n",
    "costFunction12 = regressionLogisticCostFunction(trainTarget, logisticModel12, fashionTrainParams)\n",
    "print (costFunction12)"
   ]
  },
  {
   "cell_type": "markdown",
   "metadata": {},
   "source": [
    "# Logistic Regression 13\n",
    "- Multi-class choice: One vs All\n",
    "- Solver: Liblinear\n",
    "- Max Iteration: 10"
   ]
  },
  {
   "cell_type": "code",
   "execution_count": null,
   "metadata": {},
   "outputs": [],
   "source": [
    "penalt = 'l1'\n",
    "solverMode = 'liblinear'\n",
    "maxIter = 10\n",
    "multiClass = 'ovr'\n",
    "\n",
    "logisticModel13 = LogisticRegression(max_iter = maxIter, multi_class = multiClass, solver = solverMode)\n",
    "\n",
    "start = time.clock()\n",
    "logisticModel13.fit(fashionTrainParams, fashionTrainTarget)\n",
    "print (time.clock() - start)\n",
    "\n",
    "print(\"Score : \"+ str(logisticModel13.score(fashionValidationSetParams, fashionValidationSetTarget)))\n",
    "print(metrics.accuracy_score(logisticModel13.predict(fashionValidationSetParams), fashionValidationSetTarget))\n",
    "print(metrics.precision_recall_fscore_support(logisticModel13.predict(fashionValidationSetParams), fashionValidationSetTarget))\n",
    "\n",
    "costFunction13 = regressionLogisticCostFunction(trainTarget, logisticModel13, fashionTrainParams)\n",
    "print (costFunction13)"
   ]
  },
  {
   "cell_type": "markdown",
   "metadata": {},
   "source": [
    "# Logistic Regression 14\n",
    "- Multi-class choice: One vs All\n",
    "- Solver: Liblinear\n",
    "- Max Iteration: 100"
   ]
  },
  {
   "cell_type": "code",
   "execution_count": null,
   "metadata": {},
   "outputs": [],
   "source": [
    "penalt = 'l1'\n",
    "solverMode = 'liblinear'\n",
    "maxIter = 100\n",
    "multiClass = 'ovr'\n",
    "\n",
    "logisticModel14 = LogisticRegression(max_iter = maxIter, multi_class = multiClass, solver = solverMode)\n",
    "\n",
    "start = time.clock()\n",
    "logisticModel14.fit(fashionTrainParams, fashionTrainTarget)\n",
    "print (time.clock() - start)\n",
    "\n",
    "print(\"Score : \"+ str(logisticModel14.score(fashionValidationSetParams, fashionValidationSetTarget)))\n",
    "print(metrics.accuracy_score(logisticModel14.predict(fashionValidationSetParams), fashionValidationSetTarget))\n",
    "print(metrics.precision_recall_fscore_support(logisticModel14.predict(fashionValidationSetParams), fashionValidationSetTarget))\n",
    "\n",
    "costFunction14 = regressionLogisticCostFunction(trainTarget, logisticModel14, fashionTrainParams)\n",
    "print (costFunction14)"
   ]
  },
  {
   "cell_type": "markdown",
   "metadata": {},
   "source": [
    "# Logistic Regression 15\n",
    "- Multi-class choice: One vs All\n",
    "- Solver: Liblinear\n",
    "- Max Iteration: 500"
   ]
  },
  {
   "cell_type": "code",
   "execution_count": null,
   "metadata": {},
   "outputs": [],
   "source": [
    "penalt = 'l1'\n",
    "solverMode = 'liblinear'\n",
    "maxIter = 500\n",
    "multiClass = 'ovr'\n",
    "\n",
    "logisticModel15 = LogisticRegression(max_iter = maxIter, multi_class = multiClass, solver = solverMode)\n",
    "\n",
    "start = time.clock()\n",
    "logisticModel15.fit(fashionTrainParams, fashionTrainTarget)\n",
    "print (time.clock() - start)\n",
    "\n",
    "print(\"Score : \"+ str(logisticModel15.score(fashionValidationSetParams, fashionValidationSetTarget)))\n",
    "print(metrics.accuracy_score(logisticModel15.predict(fashionValidationSetParams), fashionValidationSetTarget))\n",
    "print(metrics.precision_recall_fscore_support(logisticModel15.predict(fashionValidationSetParams), fashionValidationSetTarget))\n",
    "\n",
    "costFunction15 = regressionLogisticCostFunction(trainTarget, logisticModel15, fashionTrainParams)\n",
    "print (costFunction15)"
   ]
  },
  {
   "cell_type": "code",
   "execution_count": null,
   "metadata": {},
   "outputs": [],
   "source": [
    "\n",
    "fashionTestParams, fashionTestTarget = formatArray (fashionTestDataset)\n",
    "fashionTestParams = addColumnThetaZero(fashionTestParams)\n",
    "\n",
    "testCostFunction1 = regressionLogisticCostFunction(fashionTestTarget, logisticModel1, fashionTestParams)\n",
    "testCostFunction2 = regressionLogisticCostFunction(fashionTestTarget, logisticModel2, fashionTestParams)\n",
    "testCostFunction3 = regressionLogisticCostFunction(fashionTestTarget, logisticModel3, fashionTestParams)\n",
    "testCostFunction4 = regressionLogisticCostFunction(fashionTestTarget, logisticModel4, fashionTestParams)\n",
    "testCostFunction5 = regressionLogisticCostFunction(fashionTestTarget, logisticModel5, fashionTestParams)\n",
    "testCostFunction6 = regressionLogisticCostFunction(fashionTestTarget, logisticModel6, fashionTestParams)\n",
    "testCostFunction7 = regressionLogisticCostFunction(fashionTestTarget, logisticModel7, fashionTestParams)\n",
    "testCostFunction8 = regressionLogisticCostFunction(fashionTestTarget, logisticModel8, fashionTestParams)\n",
    "testCostFunction9 = regressionLogisticCostFunction(fashionTestTarget, logisticModel9, fashionTestParams)\n",
    "testCostFunction10 = regressionLogisticCostFunction(fashionTestTarget, logisticModel10, fashionTestParams)\n",
    "testCostFunction11 = regressionLogisticCostFunction(fashionTestTarget, logisticModel11, fashionTestParams)\n",
    "testCostFunction12 = regressionLogisticCostFunction(fashionTestTarget, logisticModel12, fashionTestParams)\n",
    "testCostFunction13 = regressionLogisticCostFunction(fashionTestTarget, logisticModel13, fashionTestParams)\n",
    "testCostFunction14 = regressionLogisticCostFunction(fashionTestTarget, logisticModel14, fashionTestParams)\n",
    "testCostFunction15 = regressionLogisticCostFunction(fashionTestTarget, logisticModel15, fashionTestParams)\n",
    "print (\"Custo e acurácia 1\":)\n",
    "print (testCostFunction1)\n",
    "print(metrics.accuracy_score(logisticModel1.predict(fashionTestParams), fashionTestTarget))\n",
    "print (\"Custo e acurácia 2\":)\n",
    "print (testCostFunction2)\n",
    "print(metrics.accuracy_score(logisticModel2.predict(fashionTestParams), fashionTestTarget))\n",
    "print (\"Custo e acurácia 3\":)\n",
    "print (testCostFunction3)\n",
    "print(metrics.accuracy_score(logisticModel3.predict(fashionTestParams), fashionTestTarget))\n",
    "print (\"Custo e acurácia 4\":)\n",
    "print (testCostFunction4)\n",
    "print(metrics.accuracy_score(logisticModel4.predict(fashionTestParams), fashionTestTarget))\n",
    "print (\"Custo e acurácia 5\":)\n",
    "print (testCostFunction5)\n",
    "print(metrics.accuracy_score(logisticModel5.predict(fashionTestParams), fashionTestTarget))\n",
    "print (\"Custo e acurácia 6\":)\n",
    "print (testCostFunction6)\n",
    "print(metrics.accuracy_score(logisticModel6.predict(fashionTestParams), fashionTestTarget))\n",
    "print (\"Custo e acurácia 7\":)\n",
    "print (testCostFunction7)\n",
    "print(metrics.accuracy_score(logisticModel7.predict(fashionTestParams), fashionTestTarget))\n",
    "print (\"Custo e acurácia 8\":)\n",
    "print (testCostFunction8)\n",
    "print(metrics.accuracy_score(logisticModel8.predict(fashionTestParams), fashionTestTarget))\n",
    "print (\"Custo e acurácia 9\":)\n",
    "print (testCostFunction9)\n",
    "print(metrics.accuracy_score(logisticModel9.predict(fashionTestParams), fashionTestTarget))\n",
    "print (\"Custo e acurácia 10\":)\n",
    "print (testCostFunction10)\n",
    "print(metrics.accuracy_score(logisticModel10.predict(fashionTestParams), fashionTestTarget))\n",
    "print (\"Custo e acurácia 11\":)\n",
    "print (testCostFunction11)\n",
    "print(metrics.accuracy_score(logisticModel11.predict(fashionTestParams), fashionTestTarget))\n",
    "print (\"Custo e acurácia 12\":)\n",
    "print (testCostFunction12)\n",
    "print(metrics.accuracy_score(logisticModel12.predict(fashionTestParams), fashionTestTarget))\n",
    "print (\"Custo e acurácia 13\":)\n",
    "print (testCostFunction13)\n",
    "print(metrics.accuracy_score(logisticModel13.predict(fashionTestParams), fashionTestTarget))\n",
    "print (\"Custo e acurácia 14\":)\n",
    "print (testCostFunction14)\n",
    "print(metrics.accuracy_score(logisticModel14.predict(fashionTestParams), fashionTestTarget))\n",
    "print (\"Custo e acurácia 15\":)\n",
    "print (testCostFunction15)\n",
    "print(metrics.accuracy_score(logisticModel15.predict(fashionTestParams), fashionTestTarget))"
   ]
  },
  {
   "cell_type": "code",
   "execution_count": null,
   "metadata": {},
   "outputs": [],
   "source": []
  },
  {
   "cell_type": "code",
   "execution_count": null,
   "metadata": {},
   "outputs": [],
   "source": []
  },
  {
   "cell_type": "code",
   "execution_count": null,
   "metadata": {},
   "outputs": [],
   "source": []
  }
 ],
 "metadata": {
  "kernelspec": {
   "display_name": "Python 3",
   "language": "python",
   "name": "python3"
  },
  "language_info": {
   "codemirror_mode": {
    "name": "ipython",
    "version": 3
   },
   "file_extension": ".py",
   "mimetype": "text/x-python",
   "name": "python",
   "nbconvert_exporter": "python",
   "pygments_lexer": "ipython3",
   "version": "3.6.5"
  }
 },
 "nbformat": 4,
 "nbformat_minor": 2
}
