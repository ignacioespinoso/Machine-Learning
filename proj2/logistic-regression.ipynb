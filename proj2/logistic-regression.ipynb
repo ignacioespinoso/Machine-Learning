{
 "cells": [
  {
   "cell_type": "markdown",
   "metadata": {},
   "source": [
    "# Objective\n",
    "\n",
    "Here, we'll run through our training data to gather information and try to achieve the best possible model"
   ]
  },
  {
   "cell_type": "code",
   "execution_count": 1,
   "metadata": {},
   "outputs": [],
   "source": [
    "import numpy as np\n",
    "from sklearn.linear_model import LogisticRegression\n",
    "import csv\n",
    "import pandas as pd\n",
    "import time\n",
    "import sklearn.metrics as metrics"
   ]
  },
  {
   "cell_type": "code",
   "execution_count": 8,
   "metadata": {},
   "outputs": [],
   "source": [
    "# Functions\n",
    "\n",
    "def addColumnThetaZero (array):\n",
    "    return np.c_[np.ones(array.shape[0]), array]\n",
    "\n",
    "def formatArray (dataFrame, columnToExtract) :\n",
    "    array = dataFrame.values\n",
    "    target = array[:,columnToExtract]\n",
    "    params = np.delete(array, columnToExtract, axis = 1)\n",
    "    return params, target\n",
    "\n",
    "def loadFashionTrainData():\n",
    "    return pd.read_csv(\"fashion-mnist-dataset/fashion-mnist_train.csv\")\n",
    "\n",
    "def loadFashionTestData():\n",
    "    return pd.read_csv(\"fashion-mnist-dataset/fashion-mnist_test.csv\")\n",
    "\n",
    "def split_train_test(data, test_ratio):\n",
    "    np.random.seed(42)\n",
    "    shuffled_indices = np.random.permutation(len(data))\n",
    "    test_set_size = int(len(data) * test_ratio)\n",
    "    test_indices = shuffled_indices[:test_set_size]\n",
    "    train_indices = shuffled_indices[test_set_size:]\n",
    "    return data.iloc[train_indices], data.iloc[test_indices]\n",
    "\n",
    "def regressionLogisticCostFunction (results, model, X):\n",
    "    agaTheta = model.predict_proba(X)\n",
    "    n = X.shape[0]\n",
    "    diference = results - agaTheta\n",
    "    squareDiference = diference * diference\n",
    "    return (np.sum(squareDiference)/(2*n))\n",
    "\n",
    "def createTarget (target):\n",
    "    results = np.zeros((target.size, 10), dtype=int)\n",
    "    for i in range(10):\n",
    "        for j in range(target.size):\n",
    "            if (target[j] != i):\n",
    "                results[j][i - 1] = 0\n",
    "            else:\n",
    "                results[j][i - 1] = 1\n",
    "    return results\n"
   ]
  },
  {
   "cell_type": "markdown",
   "metadata": {},
   "source": [
    "# The dataset\n",
    "\n",
    "First and foremost, we'll open train and test data. The training data is split to obtain validation items and the the target values are also separated from the original data. Also, added a column for Bias.\n"
   ]
  },
  {
   "cell_type": "code",
   "execution_count": 9,
   "metadata": {},
   "outputs": [],
   "source": [
    "fashionTrainDataset = loadFashionTrainData()\n",
    "fashionTestDataset = loadFashionTestData()\n",
    "\n",
    "trainSet, validationSet = split_train_test(fashionTrainDataset, 0.2)\n",
    "\n",
    "fashionTrainParams, fashionTrainTarget = formatArray(trainSet, 0)\n",
    "fashionValidationSetParams, fashionValidationSetTarget = formatArray(validationSet, 0)\n",
    "fashionTestParams, fashionTestTarget = formatArray (fashionTestDataset, 0)\n",
    "trainTarget = createTarget(fashionTrainTarget)\n",
    "\n",
    "fashionTrainParams = addColumnThetaZero(fashionTrainParams)\n",
    "fashionValidationSetParams = addColumnThetaZero(fashionValidationSetParams)\n",
    "fashionTestParams = addColumnThetaZero(fashionTestParams)"
   ]
  },
  {
   "cell_type": "markdown",
   "metadata": {},
   "source": [
    "# Logistic Regression 1\n",
    "- Multi-class choice: Multinomial\n",
    "- Solver: Newton-CG\n",
    "- Max Iteration: 10"
   ]
  },
  {
   "cell_type": "code",
   "execution_count": 12,
   "metadata": {},
   "outputs": [
    {
     "name": "stdout",
     "output_type": "stream",
     "text": [
      "24.050830000000005\n",
      "Score : 0.85175\n",
      "0.85175\n",
      "(array([0.80844156, 0.95741056, 0.76583333, 0.8784219 , 0.77552743,\n",
      "       0.90184049, 0.59292035, 0.94689542, 0.95213229, 0.95289256]), array([0.81639344, 0.96315338, 0.76328904, 0.84639255, 0.72476341,\n",
      "       0.9440367 , 0.65921288, 0.91838352, 0.94391717, 0.9427637 ]), array([0.81239804, 0.96027339, 0.76455907, 0.86210984, 0.74928659,\n",
      "       0.9224563 , 0.62431173, 0.93242156, 0.94800693, 0.94780107]), array([1220, 1167, 1204, 1289, 1268, 1090, 1118, 1262, 1159, 1223]))\n",
      "0.8858244965330608\n"
     ]
    },
    {
     "name": "stderr",
     "output_type": "stream",
     "text": [
      "/home/igoromote/anaconda3/lib/python3.6/site-packages/sklearn/utils/optimize.py:203: ConvergenceWarning: newton-cg failed to converge. Increase the number of iterations.\n",
      "  \"number of iterations.\", ConvergenceWarning)\n"
     ]
    }
   ],
   "source": [
    "penalt = 'l2'\n",
    "solverMode = 'newton-cg'\n",
    "maxIter = 10\n",
    "multiClass = 'multinomial'\n",
    "\n",
    "logisticModel = LogisticRegression(max_iter = maxIter, multi_class = multiClass, solver = solverMode, penalty = penalt)\n",
    "\n",
    "start = time.clock()\n",
    "logisticModel.fit(fashionTrainParams, fashionTrainTarget)\n",
    "print (time.clock() - start)\n",
    "\n",
    "print(\"Score : \"+ str(logisticModel.score(fashionValidationSetParams, fashionValidationSetTarget)))\n",
    "print(metrics.accuracy_score(logisticModel.predict(fashionValidationSetParams), fashionValidationSetTarget))\n",
    "print(metrics.precision_recall_fscore_support(logisticModel.predict(fashionValidationSetParams), fashionValidationSetTarget))\n",
    "costFunction = regressionLogisticCostFunction(trainTarget, logisticModel, fashionTrainParams)\n",
    "print (costFunction)\n"
   ]
  },
  {
   "cell_type": "markdown",
   "metadata": {},
   "source": [
    "# Logistic Regression 2\n",
    "- Multi-class choice: Multinomial\n",
    "- Solver: Newton-CG\n",
    "- Max Iteration: 100"
   ]
  },
  {
   "cell_type": "code",
   "execution_count": 13,
   "metadata": {},
   "outputs": [
    {
     "name": "stdout",
     "output_type": "stream",
     "text": [
      "1835.302801\n",
      "Score : 0.8318333333333333\n",
      "0.8318333333333333\n",
      "(array([0.79788961, 0.95655877, 0.75166667, 0.84782609, 0.76371308,\n",
      "       0.89833479, 0.5695897 , 0.91666667, 0.91122715, 0.92066116]), array([0.78202068, 0.92276089, 0.75734677, 0.83704293, 0.73160873,\n",
      "       0.90788308, 0.63554758, 0.90048154, 0.90727903, 0.93065998]), array([0.78987545, 0.93935592, 0.75449603, 0.8424    , 0.74731627,\n",
      "       0.9030837 , 0.60076368, 0.90850202, 0.90924881, 0.92563357]), array([1257, 1217, 1191, 1258, 1237, 1129, 1114, 1246, 1154, 1197]))\n",
      "0.910184608984921\n"
     ]
    },
    {
     "name": "stderr",
     "output_type": "stream",
     "text": [
      "/home/igoromote/anaconda3/lib/python3.6/site-packages/sklearn/utils/optimize.py:203: ConvergenceWarning: newton-cg failed to converge. Increase the number of iterations.\n",
      "  \"number of iterations.\", ConvergenceWarning)\n"
     ]
    }
   ],
   "source": [
    "penalt = 'l2'\n",
    "solverMode = 'newton-cg'\n",
    "maxIter = 100\n",
    "multiClass = 'multinomial'\n",
    "\n",
    "logisticModel2 = LogisticRegression(max_iter = maxIter, multi_class = multiClass, solver = solverMode)\n",
    "\n",
    "start = time.clock()\n",
    "logisticModel2.fit(fashionTrainParams, fashionTrainTarget)\n",
    "print (time.clock() - start)\n",
    "\n",
    "print(\"Score : \"+ str(logisticModel2.score(fashionValidationSetParams, fashionValidationSetTarget)))\n",
    "print(metrics.accuracy_score(logisticModel2.predict(fashionValidationSetParams), fashionValidationSetTarget))\n",
    "print(metrics.precision_recall_fscore_support(logisticModel2.predict(fashionValidationSetParams), fashionValidationSetTarget))\n",
    "\n",
    "costFunction2 = regressionLogisticCostFunction(trainTarget, logisticModel2, fashionTrainParams)\n",
    "print (costFunction2)"
   ]
  },
  {
   "cell_type": "markdown",
   "metadata": {},
   "source": [
    "# Logistic Regression 3\n",
    "- Multi-class choice: Multinomial\n",
    "- Solver: Newton-CG\n",
    "- Max Iteration: 500"
   ]
  },
  {
   "cell_type": "code",
   "execution_count": 16,
   "metadata": {},
   "outputs": [
    {
     "name": "stderr",
     "output_type": "stream",
     "text": [
      "/home/igoromote/anaconda3/lib/python3.6/site-packages/sklearn/utils/optimize.py:203: ConvergenceWarning: newton-cg failed to converge. Increase the number of iterations.\n",
      "  \"number of iterations.\", ConvergenceWarning)\n"
     ]
    },
    {
     "name": "stdout",
     "output_type": "stream",
     "text": [
      "10228.087957999998\n",
      "Score : 0.831\n",
      "0.831\n",
      "(array([0.80357143, 0.9548552 , 0.75      , 0.85185185, 0.75864979,\n",
      "       0.90184049, 0.56637168, 0.91584967, 0.90078329, 0.9214876 ]), array([0.78014184, 0.92263374, 0.7569386 , 0.82591725, 0.73447712,\n",
      "       0.90660793, 0.63082437, 0.90330379, 0.91189427, 0.93305439]), array([0.79168333, 0.93846798, 0.75345333, 0.83868411, 0.74636779,\n",
      "       0.90421793, 0.59686308, 0.90953347, 0.90630473, 0.92723493]), array([1269, 1215, 1189, 1281, 1224, 1135, 1116, 1241, 1135, 1195]))\n",
      "0.9124753200224804\n"
     ]
    }
   ],
   "source": [
    "penalt = 'l2'\n",
    "solverMode = 'newton-cg'\n",
    "maxIter = 500\n",
    "multiClass = 'multinomial'\n",
    "\n",
    "logisticModel3 = LogisticRegression(max_iter = maxIter, multi_class = multiClass, solver = solverMode)\n",
    "\n",
    "start = time.clock()\n",
    "logisticModel3.fit(fashionTrainParams, fashionTrainTarget)\n",
    "print (time.clock() - start)\n",
    "\n",
    "print(\"Score : \"+ str(logisticModel3.score(fashionValidationSetParams, fashionValidationSetTarget)))\n",
    "print(metrics.accuracy_score(logisticModel3.predict(fashionValidationSetParams), fashionValidationSetTarget))\n",
    "print(metrics.precision_recall_fscore_support(logisticModel3.predict(fashionValidationSetParams), fashionValidationSetTarget))\n",
    "\n",
    "costFunction3 = regressionLogisticCostFunction(trainTarget, logisticModel3, fashionTrainParams)\n",
    "print (costFunction3)"
   ]
  },
  {
   "cell_type": "markdown",
   "metadata": {},
   "source": [
    "# Logistic Regression 4\n",
    "- Multi-class choice: Multinomial\n",
    "- Solver: SAG\n",
    "- Max Iteration: 10"
   ]
  },
  {
   "cell_type": "code",
   "execution_count": 18,
   "metadata": {},
   "outputs": [
    {
     "name": "stdout",
     "output_type": "stream",
     "text": [
      "16.864325999998982\n",
      "Score : 0.8505833333333334\n",
      "0.8505833333333334\n",
      "(array([0.81006494, 0.95826235, 0.75333333, 0.88244767, 0.77130802,\n",
      "       0.89921122, 0.59372486, 0.94771242, 0.95300261, 0.95123967]), array([0.81336593, 0.96566524, 0.77463582, 0.83984674, 0.72367379,\n",
      "       0.94388224, 0.64736842, 0.91772152, 0.94315245, 0.94266994]), array([0.81171208, 0.96194955, 0.76383608, 0.86062034, 0.74673203,\n",
      "       0.92100539, 0.61938733, 0.93247588, 0.94805195, 0.94693542]), array([1227, 1165, 1167, 1305, 1263, 1087, 1140, 1264, 1161, 1221]))\n",
      "0.8863134533946874\n"
     ]
    },
    {
     "name": "stderr",
     "output_type": "stream",
     "text": [
      "/home/igoromote/anaconda3/lib/python3.6/site-packages/sklearn/linear_model/sag.py:326: ConvergenceWarning: The max_iter was reached which means the coef_ did not converge\n",
      "  \"the coef_ did not converge\", ConvergenceWarning)\n"
     ]
    }
   ],
   "source": [
    "penalt = 'l2'\n",
    "solverMode = 'sag'\n",
    "maxIter = 10\n",
    "multiClass = 'multinomial'\n",
    "\n",
    "logisticModel4 = LogisticRegression(max_iter = maxIter, multi_class = multiClass, solver = solverMode)\n",
    "\n",
    "start = time.clock()\n",
    "logisticModel4.fit(fashionTrainParams, fashionTrainTarget)\n",
    "print (time.clock() - start)\n",
    "\n",
    "print(\"Score : \"+ str(logisticModel4.score(fashionValidationSetParams, fashionValidationSetTarget)))\n",
    "print(metrics.accuracy_score(logisticModel4.predict(fashionValidationSetParams), fashionValidationSetTarget))\n",
    "print(metrics.precision_recall_fscore_support(logisticModel4.predict(fashionValidationSetParams), fashionValidationSetTarget))\n",
    "\n",
    "costFunction4 = regressionLogisticCostFunction(trainTarget, logisticModel4, fashionTrainParams)\n",
    "print (costFunction4)"
   ]
  },
  {
   "cell_type": "markdown",
   "metadata": {},
   "source": [
    "# Logistic Regression 5\n",
    "- Multi-class choice: Multinomial\n",
    "- Solver: SAG\n",
    "- Max Iteration: 100"
   ]
  },
  {
   "cell_type": "code",
   "execution_count": 19,
   "metadata": {},
   "outputs": [
    {
     "name": "stdout",
     "output_type": "stream",
     "text": [
      "166.39351199999874\n",
      "Score : 0.8459166666666667\n",
      "0.8459166666666667\n",
      "(array([0.81168831, 0.95741056, 0.7625    , 0.86312399, 0.77299578,\n",
      "       0.89833479, 0.57683025, 0.94281046, 0.9408181 , 0.94793388]), array([0.79617834, 0.9533503 , 0.76441103, 0.85079365, 0.71956009,\n",
      "       0.93266606, 0.65063521, 0.92098962, 0.93431288, 0.9370915 ]), array([0.80385852, 0.95537612, 0.76345432, 0.85691447, 0.7453214 ,\n",
      "       0.91517857, 0.61151386, 0.93177231, 0.93755421, 0.94248151]), array([1256, 1179, 1197, 1260, 1273, 1099, 1102, 1253, 1157, 1224]))\n"
     ]
    },
    {
     "name": "stderr",
     "output_type": "stream",
     "text": [
      "/home/igoromote/anaconda3/lib/python3.6/site-packages/sklearn/linear_model/sag.py:326: ConvergenceWarning: The max_iter was reached which means the coef_ did not converge\n",
      "  \"the coef_ did not converge\", ConvergenceWarning)\n"
     ]
    },
    {
     "ename": "NameError",
     "evalue": "name 'costFunction6' is not defined",
     "output_type": "error",
     "traceback": [
      "\u001b[0;31m---------------------------------------------------------------------------\u001b[0m",
      "\u001b[0;31mNameError\u001b[0m                                 Traceback (most recent call last)",
      "\u001b[0;32m<ipython-input-19-c3bb29b4500d>\u001b[0m in \u001b[0;36m<module>\u001b[0;34m()\u001b[0m\n\u001b[1;32m     15\u001b[0m \u001b[0;34m\u001b[0m\u001b[0m\n\u001b[1;32m     16\u001b[0m \u001b[0mcostFunction5\u001b[0m \u001b[0;34m=\u001b[0m \u001b[0mregressionLogisticCostFunction\u001b[0m\u001b[0;34m(\u001b[0m\u001b[0mtrainTarget\u001b[0m\u001b[0;34m,\u001b[0m \u001b[0mlogisticModel5\u001b[0m\u001b[0;34m,\u001b[0m \u001b[0mfashionTrainParams\u001b[0m\u001b[0;34m)\u001b[0m\u001b[0;34m\u001b[0m\u001b[0m\n\u001b[0;32m---> 17\u001b[0;31m \u001b[0mprint\u001b[0m \u001b[0;34m(\u001b[0m\u001b[0mcostFunction6\u001b[0m\u001b[0;34m)\u001b[0m\u001b[0;34m\u001b[0m\u001b[0m\n\u001b[0m",
      "\u001b[0;31mNameError\u001b[0m: name 'costFunction6' is not defined"
     ]
    }
   ],
   "source": [
    "penalt = 'l2'\n",
    "solverMode = 'sag'\n",
    "maxIter = 100\n",
    "multiClass = 'multinomial'\n",
    "\n",
    "logisticModel5 = LogisticRegression(max_iter = maxIter, multi_class = multiClass, solver = solverMode)\n",
    "\n",
    "start = time.clock()\n",
    "logisticModel5.fit(fashionTrainParams, fashionTrainTarget)\n",
    "print (time.clock() - start)\n",
    "\n",
    "print(\"Score : \"+ str(logisticModel5.score(fashionValidationSetParams, fashionValidationSetTarget)))\n",
    "print(metrics.accuracy_score(logisticModel5.predict(fashionValidationSetParams), fashionValidationSetTarget))\n",
    "print(metrics.precision_recall_fscore_support(logisticModel5.predict(fashionValidationSetParams), fashionValidationSetTarget))\n",
    "\n",
    "costFunction5 = regressionLogisticCostFunction(trainTarget, logisticModel5, fashionTrainParams)\n",
    "print (costFunction6)"
   ]
  },
  {
   "cell_type": "code",
   "execution_count": 20,
   "metadata": {},
   "outputs": [
    {
     "name": "stdout",
     "output_type": "stream",
     "text": [
      "0.8968388211767799\n"
     ]
    }
   ],
   "source": [
    "print(costFunction5)"
   ]
  },
  {
   "cell_type": "markdown",
   "metadata": {},
   "source": [
    "# Logistic Regression 6\n",
    "- Multi-class choice: Multinomial\n",
    "- Solver: SAG\n",
    "- Max Iteration: 500"
   ]
  },
  {
   "cell_type": "code",
   "execution_count": null,
   "metadata": {},
   "outputs": [],
   "source": [
    "penalt = 'l2'\n",
    "solverMode = 'sag'\n",
    "maxIter = 500\n",
    "multiClass = 'multinomial'\n",
    "\n",
    "logisticModel6 = LogisticRegression(max_iter = maxIter, multi_class = multiClass, solver = solverMode)\n",
    "\n",
    "start = time.clock()\n",
    "logisticModel6.fit(fashionTrainParams, fashionTrainTarget)\n",
    "print (time.clock() - start)\n",
    "\n",
    "print(\"Score : \"+ str(logisticModel6.score(fashionValidationSetParams, fashionValidationSetTarget)))\n",
    "print(metrics.accuracy_score(logisticModel6.predict(fashionValidationSetParams), fashionValidationSetTarget))\n",
    "print(metrics.precision_recall_fscore_support(logisticModel6.predict(fashionValidationSetParams), fashionValidationSetTarget))\n",
    "\n",
    "costFunction6 = regressionLogisticCostFunction(trainTarget, logisticModel6, fashionTrainParams)\n",
    "print (costFunction6)"
   ]
  },
  {
   "cell_type": "markdown",
   "metadata": {},
   "source": [
    "# Logistic Regression 7\n",
    "- Multi-class choice: One vs All\n",
    "- Solver: Newton-CG\n",
    "- Max Iteration: 10"
   ]
  },
  {
   "cell_type": "code",
   "execution_count": 21,
   "metadata": {},
   "outputs": [
    {
     "name": "stderr",
     "output_type": "stream",
     "text": [
      "/home/igoromote/anaconda3/lib/python3.6/site-packages/sklearn/utils/optimize.py:203: ConvergenceWarning: newton-cg failed to converge. Increase the number of iterations.\n",
      "  \"number of iterations.\", ConvergenceWarning)\n"
     ]
    },
    {
     "name": "stdout",
     "output_type": "stream",
     "text": [
      "66.77993699999934\n",
      "Score : 0.8326666666666667\n",
      "0.8326666666666667\n",
      "(array([0.83198052, 0.95655877, 0.74083333, 0.88244767, 0.77130802,\n",
      "       0.8694128 , 0.45615447, 0.92647059, 0.95387293, 0.9553719 ]), array([0.79334365, 0.96643718, 0.72809173, 0.80410858, 0.66715328,\n",
      "       0.94207028, 0.67741935, 0.8957346 , 0.92333614, 0.92554043]), array([0.81220285, 0.9614726 , 0.73440727, 0.84145873, 0.71545988,\n",
      "       0.90428441, 0.54519231, 0.91084337, 0.93835616, 0.9402196 ]), array([1292, 1162, 1221, 1363, 1370, 1053,  837, 1266, 1187, 1249]))\n",
      "0.8110325407044473\n"
     ]
    }
   ],
   "source": [
    "penalt = 'l2'\n",
    "solverMode = 'newton-cg'\n",
    "maxIter = 10\n",
    "multiClass = 'ovr'\n",
    "\n",
    "logisticModel7 = LogisticRegression(max_iter = maxIter, multi_class = multiClass, solver = solverMode)\n",
    "\n",
    "start = time.clock()\n",
    "logisticModel7.fit(fashionTrainParams, fashionTrainTarget)\n",
    "print (time.clock() - start)\n",
    "\n",
    "print(\"Score : \"+ str(logisticModel7.score(fashionValidationSetParams, fashionValidationSetTarget)))\n",
    "print(metrics.accuracy_score(logisticModel7.predict(fashionValidationSetParams), fashionValidationSetTarget))\n",
    "print(metrics.precision_recall_fscore_support(logisticModel7.predict(fashionValidationSetParams), fashionValidationSetTarget))\n",
    "\n",
    "costFunction7 = regressionLogisticCostFunction(trainTarget, logisticModel7, fashionTrainParams)\n",
    "print (costFunction7)"
   ]
  },
  {
   "cell_type": "markdown",
   "metadata": {},
   "source": [
    "# Logistic Regression 8\n",
    "- Multi-class choice: One vs All\n",
    "- Solver: Newton-CG\n",
    "- Max Iteration: 100"
   ]
  },
  {
   "cell_type": "code",
   "execution_count": 22,
   "metadata": {},
   "outputs": [
    {
     "name": "stderr",
     "output_type": "stream",
     "text": [
      "/home/igoromote/anaconda3/lib/python3.6/site-packages/sklearn/utils/optimize.py:203: ConvergenceWarning: newton-cg failed to converge. Increase the number of iterations.\n",
      "  \"number of iterations.\", ConvergenceWarning)\n"
     ]
    },
    {
     "name": "stdout",
     "output_type": "stream",
     "text": [
      "4425.843585999999\n",
      "Score : 0.8423333333333334\n",
      "0.8423333333333334\n",
      "(array([0.81331169, 0.95144804, 0.77083333, 0.85748792, 0.76371308,\n",
      "       0.91411043, 0.56556718, 0.92892157, 0.9329852 , 0.94132231]), array([0.78959811, 0.93944491, 0.76006574, 0.82049307, 0.73577236,\n",
      "       0.9173263 , 0.66258247, 0.91619662, 0.93055556, 0.94444444]), array([0.80127949, 0.94540838, 0.76541167, 0.83858268, 0.7494824 ,\n",
      "       0.91571554, 0.61024306, 0.92251521, 0.9317688 , 0.94288079]), array([1269, 1189, 1217, 1298, 1230, 1137, 1061, 1241, 1152, 1206]))\n",
      "0.8752517877395458\n"
     ]
    }
   ],
   "source": [
    "penalt = 'l2'\n",
    "solverMode = 'newton-cg'\n",
    "maxIter = 100\n",
    "multiClass = 'ovr'\n",
    "\n",
    "logisticModel8 = LogisticRegression(max_iter = maxIter, multi_class = multiClass, solver = solverMode)\n",
    "\n",
    "start = time.clock()\n",
    "logisticModel8.fit(fashionTrainParams, fashionTrainTarget)\n",
    "print (time.clock() - start)\n",
    "\n",
    "print(\"Score : \"+ str(logisticModel8.score(fashionValidationSetParams, fashionValidationSetTarget)))\n",
    "print(metrics.accuracy_score(logisticModel8.predict(fashionValidationSetParams), fashionValidationSetTarget))\n",
    "print(metrics.precision_recall_fscore_support(logisticModel8.predict(fashionValidationSetParams), fashionValidationSetTarget))\n",
    "\n",
    "costFunction8 = regressionLogisticCostFunction(trainTarget, logisticModel8, fashionTrainParams)\n",
    "print (costFunction8)"
   ]
  },
  {
   "cell_type": "markdown",
   "metadata": {},
   "source": [
    "# Logistic Regression 9\n",
    "- Multi-class choice: One vs All\n",
    "- Solver: Newton-CG\n",
    "- Max Iteration: 500"
   ]
  },
  {
   "cell_type": "code",
   "execution_count": null,
   "metadata": {},
   "outputs": [],
   "source": [
    "penalt = 'l2'\n",
    "solverMode = 'newton-cg'\n",
    "maxIter = 500\n",
    "multiClass = 'ovr'\n",
    "\n",
    "logisticModel9 = LogisticRegression(max_iter = maxIter, multi_class = multiClass, solver = solverMode)\n",
    "\n",
    "start = time.clock()\n",
    "logisticModel11.fit(fashionTrainParams, fashionTrainTarget)\n",
    "print (time.clock() - start)\n",
    "\n",
    "print(\"Score : \"+ str(logisticModel9.score(fashionValidationSetParams, fashionValidationSetTarget)))\n",
    "print(metrics.accuracy_score(logisticModel9.predict(fashionValidationSetParams), fashionValidationSetTarget))\n",
    "print(metrics.precision_recall_fscore_support(logisticModel9.predict(fashionValidationSetParams), fashionValidationSetTarget))\n",
    "\n",
    "costFunction9 = regressionLogisticCostFunction(trainTarget, logisticModel9, fashionTrainParams)\n",
    "print (costFunction9)"
   ]
  },
  {
   "cell_type": "markdown",
   "metadata": {},
   "source": [
    "# Logistic Regression 10\n",
    "- Multi-class choice: One vs All\n",
    "- Solver: SAG\n",
    "- Max Iteration: 10"
   ]
  },
  {
   "cell_type": "code",
   "execution_count": 23,
   "metadata": {},
   "outputs": [
    {
     "name": "stderr",
     "output_type": "stream",
     "text": [
      "/home/igoromote/anaconda3/lib/python3.6/site-packages/sklearn/linear_model/sag.py:326: ConvergenceWarning: The max_iter was reached which means the coef_ did not converge\n",
      "  \"the coef_ did not converge\", ConvergenceWarning)\n"
     ]
    },
    {
     "name": "stdout",
     "output_type": "stream",
     "text": [
      "33.99657700000171\n",
      "Score : 0.84725\n",
      "0.84725\n",
      "(array([0.81168831, 0.95315162, 0.75833333, 0.88566828, 0.79578059,\n",
      "       0.88343558, 0.55189059, 0.94281046, 0.95213229, 0.95289256]), array([0.80906149, 0.96465517, 0.77315208, 0.83523159, 0.70268256,\n",
      "       0.94293732, 0.67920792, 0.90937746, 0.92010093, 0.93663688]), array([0.81037277, 0.95886889, 0.76567101, 0.85971082, 0.74633953,\n",
      "       0.91221719, 0.60896582, 0.92579222, 0.9358426 , 0.9446948 ]), array([1236, 1160, 1177, 1317, 1342, 1069, 1010, 1269, 1189, 1231]))\n",
      "0.8492781420674929\n"
     ]
    }
   ],
   "source": [
    "penalt = 'l2'\n",
    "solverMode = 'sag'\n",
    "maxIter = 10\n",
    "multiClass = 'ovr'\n",
    "\n",
    "logisticModel10 = LogisticRegression(max_iter = maxIter, multi_class = multiClass, solver = solverMode)\n",
    "\n",
    "start = time.clock()\n",
    "logisticModel10.fit(fashionTrainParams, fashionTrainTarget)\n",
    "print (time.clock() - start)\n",
    "\n",
    "print(\"Score : \"+ str(logisticModel10.score(fashionValidationSetParams, fashionValidationSetTarget)))\n",
    "print(metrics.accuracy_score(logisticModel10.predict(fashionValidationSetParams), fashionValidationSetTarget))\n",
    "print(metrics.precision_recall_fscore_support(logisticModel10.predict(fashionValidationSetParams), fashionValidationSetTarget))\n",
    "\n",
    "costFunction10 = regressionLogisticCostFunction(trainTarget, logisticModel10, fashionTrainParams)\n",
    "print (costFunction10)"
   ]
  },
  {
   "cell_type": "markdown",
   "metadata": {},
   "source": [
    "# Logistic Regression 11\n",
    "- Multi-class choice: One vs All\n",
    "- Solver: SAG\n",
    "- Max Iteration: 100"
   ]
  },
  {
   "cell_type": "code",
   "execution_count": 24,
   "metadata": {},
   "outputs": [
    {
     "name": "stderr",
     "output_type": "stream",
     "text": [
      "/home/igoromote/anaconda3/lib/python3.6/site-packages/sklearn/linear_model/sag.py:326: ConvergenceWarning: The max_iter was reached which means the coef_ did not converge\n",
      "  \"the coef_ did not converge\", ConvergenceWarning)\n"
     ]
    },
    {
     "name": "stdout",
     "output_type": "stream",
     "text": [
      "334.1710090000015\n",
      "Score : 0.8461666666666666\n",
      "0.8461666666666666\n",
      "(array([0.8125    , 0.95144804, 0.76916667, 0.87439614, 0.77299578,\n",
      "       0.88869413, 0.56154465, 0.94607843, 0.95474326, 0.94545455]), array([0.8079096 , 0.95797599, 0.76280992, 0.83602771, 0.71062839,\n",
      "       0.93715342, 0.67179981, 0.91397001, 0.92184874, 0.93847416]), array([0.8101983 , 0.95470085, 0.7659751 , 0.85478158, 0.74050121,\n",
      "       0.9122807 , 0.61174408, 0.92974709, 0.9380077 , 0.94195142]), array([1239, 1166, 1210, 1299, 1289, 1082, 1039, 1267, 1190, 1219]))\n",
      "0.8589159318000038\n"
     ]
    }
   ],
   "source": [
    "penalt = 'l2'\n",
    "solverMode = 'sag'\n",
    "maxIter = 100\n",
    "multiClass = 'ovr'\n",
    "\n",
    "logisticModel11 = LogisticRegression(max_iter = maxIter, multi_class = multiClass, solver = solverMode)\n",
    "\n",
    "start = time.clock()\n",
    "logisticModel11.fit(fashionTrainParams, fashionTrainTarget)\n",
    "print (time.clock() - start)\n",
    "\n",
    "print(\"Score : \"+ str(logisticModel11.score(fashionValidationSetParams, fashionValidationSetTarget)))\n",
    "print(metrics.accuracy_score(logisticModel11.predict(fashionValidationSetParams), fashionValidationSetTarget))\n",
    "print(metrics.precision_recall_fscore_support(logisticModel11.predict(fashionValidationSetParams), fashionValidationSetTarget))\n",
    "\n",
    "costFunction11 = regressionLogisticCostFunction(trainTarget, logisticModel11, fashionTrainParams)\n",
    "print (costFunction11)"
   ]
  },
  {
   "cell_type": "markdown",
   "metadata": {},
   "source": [
    "# Logistic Regression 12\n",
    "- Multi-class choice: One vs All\n",
    "- Solver: SAG\n",
    "- Max Iteration: 500"
   ]
  },
  {
   "cell_type": "code",
   "execution_count": null,
   "metadata": {},
   "outputs": [],
   "source": [
    "penalt = 'l2'\n",
    "solverMode = 'sag'\n",
    "maxIter = 500\n",
    "multiClass = 'ovr'\n",
    "\n",
    "logisticModel12 = LogisticRegression(max_iter = maxIter, multi_class = multiClass, solver = solverMode)\n",
    "\n",
    "start = time.clock()\n",
    "logisticModel12.fit(fashionTrainParams, fashionTrainTarget)\n",
    "print (time.clock() - start)\n",
    "\n",
    "print(\"Score : \"+ str(logisticModel12.score(fashionValidationSetParams, fashionValidationSetTarget)))\n",
    "print(metrics.accuracy_score(logisticModel12.predict(fashionValidationSetParams), fashionValidationSetTarget))\n",
    "print(metrics.precision_recall_fscore_support(logisticModel12.predict(fashionValidationSetParams), fashionValidationSetTarget))\n",
    "\n",
    "costFunction12 = regressionLogisticCostFunction(trainTarget, logisticModel12, fashionTrainParams)\n",
    "print (costFunction12)"
   ]
  },
  {
   "cell_type": "markdown",
   "metadata": {},
   "source": [
    "# Logistic Regression 13\n",
    "- Multi-class choice: One vs All\n",
    "- Solver: Liblinear\n",
    "- Max Iteration: 10"
   ]
  },
  {
   "cell_type": "code",
   "execution_count": 25,
   "metadata": {},
   "outputs": [
    {
     "name": "stdout",
     "output_type": "stream",
     "text": [
      "37.138403999997536\n",
      "Score : 0.8474166666666667\n",
      "0.8474166666666667\n",
      "(array([0.8125    , 0.95400341, 0.7675    , 0.87520129, 0.78481013,\n",
      "       0.88869413, 0.55913113, 0.94689542, 0.95474326, 0.94628099]), array([0.80272654, 0.95890411, 0.7675    , 0.83873457, 0.71155318,\n",
      "       0.94413408, 0.67344961, 0.91044776, 0.92652027, 0.9392945 ]), array([0.8075837 , 0.95644748, 0.7675    , 0.85657998, 0.74638844,\n",
      "       0.91557562, 0.61098901, 0.92831398, 0.94042006, 0.9427748 ]), array([1247, 1168, 1200, 1296, 1307, 1074, 1032, 1273, 1184, 1219]))\n",
      "0.8464084053660424\n"
     ]
    }
   ],
   "source": [
    "penalt = 'l1'\n",
    "solverMode = 'liblinear'\n",
    "maxIter = 10\n",
    "multiClass = 'ovr'\n",
    "\n",
    "logisticModel13 = LogisticRegression(max_iter = maxIter, multi_class = multiClass, solver = solverMode)\n",
    "\n",
    "start = time.clock()\n",
    "logisticModel13.fit(fashionTrainParams, fashionTrainTarget)\n",
    "print (time.clock() - start)\n",
    "\n",
    "print(\"Score : \"+ str(logisticModel13.score(fashionValidationSetParams, fashionValidationSetTarget)))\n",
    "print(metrics.accuracy_score(logisticModel13.predict(fashionValidationSetParams), fashionValidationSetTarget))\n",
    "print(metrics.precision_recall_fscore_support(logisticModel13.predict(fashionValidationSetParams), fashionValidationSetTarget))\n",
    "\n",
    "costFunction13 = regressionLogisticCostFunction(trainTarget, logisticModel13, fashionTrainParams)\n",
    "print (costFunction13)"
   ]
  },
  {
   "cell_type": "markdown",
   "metadata": {},
   "source": [
    "# Logistic Regression 14\n",
    "- Multi-class choice: One vs All\n",
    "- Solver: Liblinear\n",
    "- Max Iteration: 100"
   ]
  },
  {
   "cell_type": "code",
   "execution_count": 26,
   "metadata": {},
   "outputs": [
    {
     "name": "stdout",
     "output_type": "stream",
     "text": [
      "3341.3040580000015\n",
      "Score : 0.8421666666666666\n",
      "0.8421666666666666\n",
      "(array([0.80925325, 0.95229983, 0.76833333, 0.86070853, 0.76455696,\n",
      "       0.91586328, 0.56395817, 0.93055556, 0.93124456, 0.94132231]), array([0.79569034, 0.93478261, 0.7557377 , 0.82167563, 0.72829582,\n",
      "       0.92559787, 0.66319773, 0.91706924, 0.93124456, 0.94210091]), array([0.80241449, 0.94345992, 0.76198347, 0.84073928, 0.745986  ,\n",
      "       0.92070485, 0.60956522, 0.92376318, 0.93124456, 0.94171145]), array([1253, 1196, 1220, 1301, 1244, 1129, 1057, 1242, 1149, 1209]))\n",
      "0.8731074577744629\n"
     ]
    }
   ],
   "source": [
    "penalt = 'l1'\n",
    "solverMode = 'liblinear'\n",
    "maxIter = 100\n",
    "multiClass = 'ovr'\n",
    "\n",
    "logisticModel14 = LogisticRegression(max_iter = maxIter, multi_class = multiClass, solver = solverMode)\n",
    "\n",
    "start = time.clock()\n",
    "logisticModel14.fit(fashionTrainParams, fashionTrainTarget)\n",
    "print (time.clock() - start)\n",
    "\n",
    "print(\"Score : \"+ str(logisticModel14.score(fashionValidationSetParams, fashionValidationSetTarget)))\n",
    "print(metrics.accuracy_score(logisticModel14.predict(fashionValidationSetParams), fashionValidationSetTarget))\n",
    "print(metrics.precision_recall_fscore_support(logisticModel14.predict(fashionValidationSetParams), fashionValidationSetTarget))\n",
    "\n",
    "costFunction14 = regressionLogisticCostFunction(trainTarget, logisticModel14, fashionTrainParams)\n",
    "print (costFunction14)"
   ]
  },
  {
   "cell_type": "markdown",
   "metadata": {},
   "source": [
    "# Logistic Regression 15\n",
    "- Multi-class choice: One vs All\n",
    "- Solver: Liblinear\n",
    "- Max Iteration: 500"
   ]
  },
  {
   "cell_type": "code",
   "execution_count": null,
   "metadata": {},
   "outputs": [],
   "source": [
    "penalt = 'l1'\n",
    "solverMode = 'liblinear'\n",
    "maxIter = 500\n",
    "multiClass = 'ovr'\n",
    "\n",
    "logisticModel15 = LogisticRegression(max_iter = maxIter, multi_class = multiClass, solver = solverMode)\n",
    "\n",
    "start = time.clock()\n",
    "logisticModel15.fit(fashionTrainParams, fashionTrainTarget)\n",
    "print (time.clock() - start)\n",
    "\n",
    "print(\"Score : \"+ str(logisticModel15.score(fashionValidationSetParams, fashionValidationSetTarget)))\n",
    "print(metrics.accuracy_score(logisticModel15.predict(fashionValidationSetParams), fashionValidationSetTarget))\n",
    "print(metrics.precision_recall_fscore_support(logisticModel15.predict(fashionValidationSetParams), fashionValidationSetTarget))\n",
    "\n",
    "costFunction15 = regressionLogisticCostFunction(trainTarget, logisticModel15, fashionTrainParams)\n",
    "print (costFunction15)"
   ]
  },
  {
   "cell_type": "code",
   "execution_count": 38,
   "metadata": {},
   "outputs": [
    {
     "name": "stdout",
     "output_type": "stream",
     "text": [
      "Custo e acurácia 1:\n",
      "0.8856784461175559\n",
      "0.8518\n",
      "(array([0.80844156, 0.95741056, 0.76583333, 0.8784219 , 0.77552743,\n",
      "       0.90184049, 0.59292035, 0.94689542, 0.95213229, 0.95289256]), array([0.81639344, 0.96315338, 0.76328904, 0.84639255, 0.72476341,\n",
      "       0.9440367 , 0.65921288, 0.91838352, 0.94391717, 0.9427637 ]), array([0.81239804, 0.96027339, 0.76455907, 0.86210984, 0.74928659,\n",
      "       0.9224563 , 0.62431173, 0.93242156, 0.94800693, 0.94780107]), array([1220, 1167, 1204, 1289, 1268, 1090, 1118, 1262, 1159, 1223]))\n",
      "Custo e acurácia 2:\n",
      "0.9095479120806638\n",
      "0.8323\n",
      "(array([0.79788961, 0.95655877, 0.75166667, 0.84782609, 0.76371308,\n",
      "       0.89833479, 0.5695897 , 0.91666667, 0.91122715, 0.92066116]), array([0.78202068, 0.92276089, 0.75734677, 0.83704293, 0.73160873,\n",
      "       0.90788308, 0.63554758, 0.90048154, 0.90727903, 0.93065998]), array([0.78987545, 0.93935592, 0.75449603, 0.8424    , 0.74731627,\n",
      "       0.9030837 , 0.60076368, 0.90850202, 0.90924881, 0.92563357]), array([1257, 1217, 1191, 1258, 1237, 1129, 1114, 1246, 1154, 1197]))\n",
      "Custo e acurácia 3:\n",
      "0.9120908310807101\n",
      "0.8318\n",
      "(array([0.80357143, 0.9548552 , 0.75      , 0.85185185, 0.75864979,\n",
      "       0.90184049, 0.56637168, 0.91584967, 0.90078329, 0.9214876 ]), array([0.78014184, 0.92263374, 0.7569386 , 0.82591725, 0.73447712,\n",
      "       0.90660793, 0.63082437, 0.90330379, 0.91189427, 0.93305439]), array([0.79168333, 0.93846798, 0.75345333, 0.83868411, 0.74636779,\n",
      "       0.90421793, 0.59686308, 0.90953347, 0.90630473, 0.92723493]), array([1269, 1215, 1189, 1281, 1224, 1135, 1116, 1241, 1135, 1195]))\n",
      "Custo e acurácia 4:\n",
      "0.8862584360808184\n",
      "0.8518\n",
      "(array([0.81006494, 0.95826235, 0.75333333, 0.88244767, 0.77130802,\n",
      "       0.89921122, 0.59372486, 0.94771242, 0.95300261, 0.95123967]), array([0.81336593, 0.96566524, 0.77463582, 0.83984674, 0.72367379,\n",
      "       0.94388224, 0.64736842, 0.91772152, 0.94315245, 0.94266994]), array([0.81171208, 0.96194955, 0.76383608, 0.86062034, 0.74673203,\n",
      "       0.92100539, 0.61938733, 0.93247588, 0.94805195, 0.94693542]), array([1227, 1165, 1167, 1305, 1263, 1087, 1140, 1264, 1161, 1221]))\n",
      "Custo e acurácia 5:\n",
      "0.8968488283413206\n",
      "0.8437\n",
      "(array([0.81168831, 0.95741056, 0.7625    , 0.86312399, 0.77299578,\n",
      "       0.89833479, 0.57683025, 0.94281046, 0.9408181 , 0.94793388]), array([0.79617834, 0.9533503 , 0.76441103, 0.85079365, 0.71956009,\n",
      "       0.93266606, 0.65063521, 0.92098962, 0.93431288, 0.9370915 ]), array([0.80385852, 0.95537612, 0.76345432, 0.85691447, 0.7453214 ,\n",
      "       0.91517857, 0.61151386, 0.93177231, 0.93755421, 0.94248151]), array([1256, 1179, 1197, 1260, 1273, 1099, 1102, 1253, 1157, 1224]))\n",
      "Custo e acurácia 7:\n",
      "0.8121206399509928\n",
      "0.8403\n",
      "(array([0.83198052, 0.95655877, 0.74083333, 0.88244767, 0.77130802,\n",
      "       0.8694128 , 0.45615447, 0.92647059, 0.95387293, 0.9553719 ]), array([0.79334365, 0.96643718, 0.72809173, 0.80410858, 0.66715328,\n",
      "       0.94207028, 0.67741935, 0.8957346 , 0.92333614, 0.92554043]), array([0.81220285, 0.9614726 , 0.73440727, 0.84145873, 0.71545988,\n",
      "       0.90428441, 0.54519231, 0.91084337, 0.93835616, 0.9402196 ]), array([1292, 1162, 1221, 1363, 1370, 1053,  837, 1266, 1187, 1249]))\n",
      "Custo e acurácia 8:\n",
      "0.8708589992752604\n",
      "0.8419\n",
      "(array([0.81331169, 0.95144804, 0.77083333, 0.85748792, 0.76371308,\n",
      "       0.91411043, 0.56556718, 0.92892157, 0.9329852 , 0.94132231]), array([0.78959811, 0.93944491, 0.76006574, 0.82049307, 0.73577236,\n",
      "       0.9173263 , 0.66258247, 0.91619662, 0.93055556, 0.94444444]), array([0.80127949, 0.94540838, 0.76541167, 0.83858268, 0.7494824 ,\n",
      "       0.91571554, 0.61024306, 0.92251521, 0.9317688 , 0.94288079]), array([1269, 1189, 1217, 1298, 1230, 1137, 1061, 1241, 1152, 1206]))\n",
      "Custo e acurácia 10:\n",
      "0.8493361765353084\n",
      "0.851\n",
      "(array([0.81168831, 0.95315162, 0.75833333, 0.88566828, 0.79578059,\n",
      "       0.88343558, 0.55189059, 0.94281046, 0.95213229, 0.95289256]), array([0.80906149, 0.96465517, 0.77315208, 0.83523159, 0.70268256,\n",
      "       0.94293732, 0.67920792, 0.90937746, 0.92010093, 0.93663688]), array([0.81037277, 0.95886889, 0.76567101, 0.85971082, 0.74633953,\n",
      "       0.91221719, 0.60896582, 0.92579222, 0.9358426 , 0.9446948 ]), array([1236, 1160, 1177, 1317, 1342, 1069, 1010, 1269, 1189, 1231]))\n",
      "Custo e acurácia 11:\n",
      "0.8575927407099929\n",
      "0.8482\n",
      "(array([0.8125    , 0.95144804, 0.76916667, 0.87439614, 0.77299578,\n",
      "       0.88869413, 0.56154465, 0.94607843, 0.95474326, 0.94545455]), array([0.8079096 , 0.95797599, 0.76280992, 0.83602771, 0.71062839,\n",
      "       0.93715342, 0.67179981, 0.91397001, 0.92184874, 0.93847416]), array([0.8101983 , 0.95470085, 0.7659751 , 0.85478158, 0.74050121,\n",
      "       0.9122807 , 0.61174408, 0.92974709, 0.9380077 , 0.94195142]), array([1239, 1166, 1210, 1299, 1289, 1082, 1039, 1267, 1190, 1219]))\n",
      "Custo e acurácia 13:\n",
      "0.8462425552578922\n",
      "0.849\n",
      "(array([0.8125    , 0.95400341, 0.7675    , 0.87520129, 0.78481013,\n",
      "       0.88869413, 0.55913113, 0.94689542, 0.95474326, 0.94628099]), array([0.80272654, 0.95890411, 0.7675    , 0.83873457, 0.71155318,\n",
      "       0.94413408, 0.67344961, 0.91044776, 0.92652027, 0.9392945 ]), array([0.8075837 , 0.95644748, 0.7675    , 0.85657998, 0.74638844,\n",
      "       0.91557562, 0.61098901, 0.92831398, 0.94042006, 0.9427748 ]), array([1247, 1168, 1200, 1296, 1307, 1074, 1032, 1273, 1184, 1219]))\n",
      "Custo e acurácia 14:\n",
      "0.8688466224387561\n",
      "0.8425\n",
      "(array([0.80925325, 0.95229983, 0.76833333, 0.86070853, 0.76455696,\n",
      "       0.91586328, 0.56395817, 0.93055556, 0.93124456, 0.94132231]), array([0.79569034, 0.93478261, 0.7557377 , 0.82167563, 0.72829582,\n",
      "       0.92559787, 0.66319773, 0.91706924, 0.93124456, 0.94210091]), array([0.80241449, 0.94345992, 0.76198347, 0.84073928, 0.745986  ,\n",
      "       0.92070485, 0.60956522, 0.92376318, 0.93124456, 0.94171145]), array([1253, 1196, 1220, 1301, 1244, 1129, 1057, 1242, 1149, 1209]))\n"
     ]
    }
   ],
   "source": [
    "\n",
    "fashionTestParams, fashionTestTarget = formatArray (fashionTestDataset, 0)\n",
    "fashtionTestTargetFormated = createTarget(fashionTestTarget)\n",
    "fashionTestParams = addColumnThetaZero(fashionTestParams)\n",
    "\n",
    "testCostFunction1 = regressionLogisticCostFunction(fashtionTestTargetFormated, logisticModel, fashionTestParams)\n",
    "testCostFunction2 = regressionLogisticCostFunction(fashtionTestTargetFormated, logisticModel2, fashionTestParams)\n",
    "testCostFunction3 = regressionLogisticCostFunction(fashtionTestTargetFormated, logisticModel3, fashionTestParams)\n",
    "testCostFunction4 = regressionLogisticCostFunction(fashtionTestTargetFormated, logisticModel4, fashionTestParams)\n",
    "testCostFunction5 = regressionLogisticCostFunction(fashtionTestTargetFormated, logisticModel5, fashionTestParams)\n",
    "testCostFunction7 = regressionLogisticCostFunction(fashtionTestTargetFormated, logisticModel7, fashionTestParams)\n",
    "testCostFunction8 = regressionLogisticCostFunction(fashtionTestTargetFormated, logisticModel8, fashionTestParams)\n",
    "testCostFunction10 = regressionLogisticCostFunction(fashtionTestTargetFormated, logisticModel10, fashionTestParams)\n",
    "testCostFunction11 = regressionLogisticCostFunction(fashtionTestTargetFormated, logisticModel11, fashionTestParams)\n",
    "testCostFunction13 = regressionLogisticCostFunction(fashtionTestTargetFormated, logisticModel13, fashionTestParams)\n",
    "testCostFunction14 = regressionLogisticCostFunction(fashtionTestTargetFormated, logisticModel14, fashionTestParams)\n",
    "print (\"Custo e acurácia 1:\")\n",
    "print (testCostFunction1)\n",
    "print(metrics.accuracy_score(logisticModel.predict(fashionTestParams), fashionTestTarget))\n",
    "print(metrics.precision_recall_fscore_support(logisticModel.predict(fashionValidationSetParams), fashionValidationSetTarget))\n",
    "print (\"Custo e acurácia 2:\")\n",
    "print (testCostFunction2)\n",
    "print(metrics.accuracy_score(logisticModel2.predict(fashionTestParams), fashionTestTarget))\n",
    "print(metrics.precision_recall_fscore_support(logisticModel2.predict(fashionValidationSetParams), fashionValidationSetTarget))\n",
    "print (\"Custo e acurácia 3:\")\n",
    "print (testCostFunction3)\n",
    "print(metrics.accuracy_score(logisticModel3.predict(fashionTestParams), fashionTestTarget))\n",
    "print(metrics.precision_recall_fscore_support(logisticModel3.predict(fashionValidationSetParams), fashionValidationSetTarget))\n",
    "print (\"Custo e acurácia 4:\")\n",
    "print (testCostFunction4)\n",
    "print(metrics.accuracy_score(logisticModel4.predict(fashionTestParams), fashionTestTarget))\n",
    "print(metrics.precision_recall_fscore_support(logisticModel4.predict(fashionValidationSetParams), fashionValidationSetTarget))\n",
    "print (\"Custo e acurácia 5:\")\n",
    "print (testCostFunction5)\n",
    "print(metrics.accuracy_score(logisticModel5.predict(fashionTestParams), fashionTestTarget))\n",
    "print(metrics.precision_recall_fscore_support(logisticModel5.predict(fashionValidationSetParams), fashionValidationSetTarget))\n",
    "print (\"Custo e acurácia 7:\")\n",
    "print (testCostFunction7)\n",
    "print(metrics.accuracy_score(logisticModel7.predict(fashionTestParams), fashionTestTarget))\n",
    "print(metrics.precision_recall_fscore_support(logisticModel7.predict(fashionValidationSetParams), fashionValidationSetTarget))\n",
    "print (\"Custo e acurácia 8:\")\n",
    "print (testCostFunction8)\n",
    "print(metrics.accuracy_score(logisticModel8.predict(fashionTestParams), fashionTestTarget))\n",
    "print(metrics.precision_recall_fscore_support(logisticModel8.predict(fashionValidationSetParams), fashionValidationSetTarget))\n",
    "print (\"Custo e acurácia 10:\")\n",
    "print (testCostFunction10)\n",
    "print(metrics.accuracy_score(logisticModel10.predict(fashionTestParams), fashionTestTarget))\n",
    "print(metrics.precision_recall_fscore_support(logisticModel10.predict(fashionValidationSetParams), fashionValidationSetTarget))\n",
    "print (\"Custo e acurácia 11:\")\n",
    "print (testCostFunction11)\n",
    "print(metrics.accuracy_score(logisticModel11.predict(fashionTestParams), fashionTestTarget))\n",
    "print(metrics.precision_recall_fscore_support(logisticModel11.predict(fashionValidationSetParams), fashionValidationSetTarget))\n",
    "print (\"Custo e acurácia 13:\")\n",
    "print (testCostFunction13)\n",
    "print(metrics.accuracy_score(logisticModel13.predict(fashionTestParams), fashionTestTarget))\n",
    "print(metrics.precision_recall_fscore_support(logisticModel13.predict(fashionValidationSetParams), fashionValidationSetTarget))\n",
    "print (\"Custo e acurácia 14:\")\n",
    "print (testCostFunction14)\n",
    "print(metrics.accuracy_score(logisticModel14.predict(fashionTestParams), fashionTestTarget))\n",
    "print(metrics.precision_recall_fscore_support(logisticModel14.predict(fashionValidationSetParams), fashionValidationSetTarget))"
   ]
  },
  {
   "cell_type": "code",
   "execution_count": null,
   "metadata": {},
   "outputs": [],
   "source": []
  },
  {
   "cell_type": "code",
   "execution_count": null,
   "metadata": {},
   "outputs": [],
   "source": []
  },
  {
   "cell_type": "code",
   "execution_count": null,
   "metadata": {},
   "outputs": [],
   "source": []
  }
 ],
 "metadata": {
  "kernelspec": {
   "display_name": "Python 3",
   "language": "python",
   "name": "python3"
  },
  "language_info": {
   "codemirror_mode": {
    "name": "ipython",
    "version": 3
   },
   "file_extension": ".py",
   "mimetype": "text/x-python",
   "name": "python",
   "nbconvert_exporter": "python",
   "pygments_lexer": "ipython3",
   "version": "3.6.5"
  }
 },
 "nbformat": 4,
 "nbformat_minor": 2
}
