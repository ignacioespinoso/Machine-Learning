{
 "cells": [
  {
   "cell_type": "markdown",
   "metadata": {},
   "source": [
    "# Objective\n",
    "\n",
    "Here, we'll run through our training data to gather information and try to achieve the best possible model"
   ]
  },
  {
   "cell_type": "code",
   "execution_count": 42,
   "metadata": {},
   "outputs": [],
   "source": [
    "import numpy as np\n",
    "from sklearn.linear_model import LogisticRegression\n",
    "import csv\n",
    "import pandas as pd\n",
    "import time\n",
    "import sklearn.metrics as metrics\n",
    "import matplotlib.pyplot as plt"
   ]
  },
  {
   "cell_type": "code",
   "execution_count": 72,
   "metadata": {},
   "outputs": [],
   "source": [
    "# Functions\n",
    "\n",
    "def addColumnThetaZero (array):\n",
    "    return np.c_[np.ones(array.shape[0]), array]\n",
    "\n",
    "def formatArray (dataFrame, columnToExtract) :\n",
    "    array = dataFrame.values\n",
    "    target = array[:,columnToExtract]\n",
    "    params = np.delete(array, columnToExtract, axis = 1)\n",
    "    return params, target\n",
    "\n",
    "def loadFashionTrainData():\n",
    "    return pd.read_csv(\"fashion-mnist-dataset/fashion-mnist_train.csv\")\n",
    "\n",
    "def loadFashionTestData():\n",
    "    return pd.read_csv(\"fashion-mnist-dataset/fashion-mnist_test.csv\")\n",
    "\n",
    "def split_train_test(data, test_ratio):\n",
    "    np.random.seed(42)\n",
    "    test_set_size = int(len(data) * test_ratio)\n",
    "    return data[:test_set_size], data[test_set_size:]\n",
    "    shuffled_indices = np.random.permutation(len(data))\n",
    "    test_set_size = int(len(data) * test_ratio)\n",
    "    test_indices = shuffled_indices[:test_set_size]\n",
    "    train_indices = shuffled_indices[test_set_size:]\n",
    "    return data.iloc[train_indices], data.iloc[test_indices]\n",
    "\n",
    "def regressionLogisticCostFunction (results, model, X):\n",
    "    agaTheta = model.predict_proba(X)\n",
    "#     print (agaTheta[:10])\n",
    "#     print(results[:10])\n",
    "    n = X.shape[0]\n",
    "    diference = results - agaTheta\n",
    "    squareDiference = diference * diference\n",
    "    return (np.sum(squareDiference)/(2*n))\n",
    "\n",
    "def createTarget (target):\n",
    "    results = np.zeros((target.size, 10), dtype=int)\n",
    "    for i in range(0,10):\n",
    "        for j in range(target.size):\n",
    "            if (target[j] != i):\n",
    "                results[j][i] = 0\n",
    "            else:\n",
    "                results[j][i] = 1\n",
    "    return results\n",
    "\n",
    "def construct_confusion_matrix (results, model, X):\n",
    "    confusion_matrix = np.zeros((10, 10), dtype=int)\n",
    "    predicted = model.predict(X)\n",
    "    n = X.shape[0]\n",
    "    for i in range (n):\n",
    "        confusion_matrix[results[i]][predicted[i]] = confusion_matrix[results[i]][predicted[i]] + 1\n",
    "    return confusion_matrix\n",
    "    \n",
    "    \n",
    "\n",
    "def accuracy (results, model, X):\n",
    "    right_asnwer = 0\n",
    "    predicted = model.predict(X)\n",
    "    n = X.shape[0]\n",
    "    for i in range (n):\n",
    "        if (results[i][predicted[i]] == 1):\n",
    "            right_asnwer = right_asnwer + 1\n",
    "    return right_asnwer/n"
   ]
  },
  {
   "cell_type": "markdown",
   "metadata": {},
   "source": [
    "# The dataset\n",
    "\n",
    "First and foremost, we'll open train and test data. The training data is split to obtain validation items and the the target values are also separated from the original data. Also, added a column for Bias.\n"
   ]
  },
  {
   "cell_type": "code",
   "execution_count": 73,
   "metadata": {},
   "outputs": [],
   "source": [
    "fashionTrainDataset = loadFashionTrainData()\n",
    "fashionTestDataset = loadFashionTestData()\n",
    "\n",
    "trainSet, validationSet = split_train_test(fashionTrainDataset, 0.2)\n",
    "\n",
    "fashionTrainParams, fashionTrainTarget = formatArray(trainSet, 0)\n",
    "fashionValidationSetParams, fashionValidationSetTarget = formatArray(validationSet, 0)\n",
    "fashionTestParams, fashionTestTarget = formatArray (fashionTestDataset, 0)\n",
    "\n",
    "trainTarget = createTarget(fashionTrainTarget)\n",
    "validationTarget = createTarget(fashionValidationSetTarget)\n",
    "testTarget = createTarget(fashionTestTarget)\n",
    "\n",
    "\n",
    "fashionTrainParams = addColumnThetaZero(fashionTrainParams)\n",
    "fashionValidationSetParams = addColumnThetaZero(fashionValidationSetParams)\n",
    "fashionTestParams = addColumnThetaZero(fashionTestParams)\n",
    "\n",
    "bestModel = LogisticRegression()\n",
    "bestAccuracy = 0"
   ]
  },
  {
   "cell_type": "code",
   "execution_count": 45,
   "metadata": {},
   "outputs": [],
   "source": [
    "# print (fashionTrainParams[2:3][:])\n",
    "# print (fashionTrainTarget[:5])\n",
    "xToPlotMultinomial_NCG = np.array([])\n",
    "yToPlotMultinomial_NCG = np.array([])\n",
    "y2ToPlotMultinomial_NCG = np.array([])"
   ]
  },
  {
   "cell_type": "markdown",
   "metadata": {},
   "source": [
    "### Logistic Regression 1\n",
    "- Multi-class choice: Multinomial\n",
    "- Solver: Newton-CG\n",
    "- Max Iteration: 10"
   ]
  },
  {
   "cell_type": "code",
   "execution_count": 46,
   "metadata": {},
   "outputs": [
    {
     "name": "stderr",
     "output_type": "stream",
     "text": [
      "/home/igoromote/anaconda3/lib/python3.6/site-packages/sklearn/utils/optimize.py:203: ConvergenceWarning: newton-cg failed to converge. Increase the number of iterations.\n",
      "  \"number of iterations.\", ConvergenceWarning)\n"
     ]
    },
    {
     "name": "stdout",
     "output_type": "stream",
     "text": [
      "35.037515999999414\n",
      "Score : 0.789125\n",
      "0.789125\n",
      "(array([0.7354232 , 0.94390395, 0.67401607, 0.78378943, 0.66915114,\n",
      "       0.85455303, 0.52148397, 0.89570164, 0.89481328, 0.91900377]), array([0.73327777, 0.93557653, 0.65947581, 0.78790424, 0.65332525,\n",
      "       0.90429989, 0.54252072, 0.87397204, 0.91203214, 0.88814725]), array([0.73434891, 0.93972179, 0.66666667, 0.78584145, 0.6611435 ,\n",
      "       0.87872295, 0.53179438, 0.88470343, 0.90334066, 0.90331208]), array([4799, 4874, 4960, 4762, 4947, 4535, 4586, 4864, 4729, 4944]))\n",
      "0.03299838960339816\n",
      "GO TO AC\n",
      "AC treino =  0.9606666666666667  AC val =  0.789125\n",
      "MATRIX\n",
      "[[1160    0    5   12    1    0   37    0    0    0]\n",
      " [   0 1169    0    0    0    0    0    0    0    0]\n",
      " [   3    0 1023    4   78    0   39    0    0    0]\n",
      " [   4    0    2 1190    9    0    8    0    0    0]\n",
      " [   2    0   45   13 1068    0   42    0    0    0]\n",
      " [   0    0    0    0    0 1201    0    0    0    0]\n",
      " [  51    0   58    7   52    0 1061    0    0    0]\n",
      " [   0    0    0    0    0    0    0 1254    0    0]\n",
      " [   0    0    0    0    0    0    0    0 1180    0]\n",
      " [   0    0    0    0    0    0    0    0    0 1222]]\n"
     ]
    }
   ],
   "source": [
    "\n",
    "xToPlotMultinomial_NCG4 = np.array([])\n",
    "yToPlotMultinomial_NCG4 = np.array([])\n",
    "\n",
    "penalt = 'l2'\n",
    "solverMode = 'newton-cg'\n",
    "maxIter = 20\n",
    "multiClass = 'multinomial'\n",
    "\n",
    "logisticMode = LogisticRegression(max_iter = maxIter, multi_class = multiClass, solver = solverMode, penalty = penalt)\n",
    "\n",
    "start = time.clock()\n",
    "logisticMode.fit(fashionTrainParams, fashionTrainTarget)\n",
    "print (time.clock() - start)\n",
    "\n",
    "print(\"Score : \"+ str(logisticMode.score(fashionValidationSetParams, fashionValidationSetTarget)))\n",
    "print(metrics.accuracy_score(logisticMode.predict(fashionValidationSetParams), fashionValidationSetTarget))\n",
    "print(metrics.precision_recall_fscore_support(logisticMode.predict(fashionValidationSetParams), fashionValidationSetTarget))\n",
    "\n",
    "costFunction = regressionLogisticCostFunction(trainTarget, logisticMode, fashionTrainParams)\n",
    "print (costFunction)\n",
    "\n",
    "print (\"GO TO AC\")\n",
    "r = accuracy (trainTarget, logisticMode, fashionTrainParams)\n",
    "r2 = accuracy (validationTarget, logisticMode, fashionValidationSetParams)\n",
    "print (\"AC treino = \", r, \" AC val = \", r2)\n",
    "\n",
    "print (\"MATRIX\")\n",
    "confusion_matrix = construct_confusion_matrix (fashionTrainTarget, logisticMode, fashionTrainParams)\n",
    "print (confusion_matrix)\n",
    "\n",
    "xToPlotMultinomial_NCG4 = np.append(xToPlotMultinomial_NCG4,maxIter)\n",
    "yToPlotMultinomial_NCG4 = np.append(yToPlotMultinomial_NCG4,costFunction)"
   ]
  },
  {
   "cell_type": "code",
   "execution_count": 74,
   "metadata": {
    "scrolled": true
   },
   "outputs": [
    {
     "name": "stdout",
     "output_type": "stream",
     "text": [
      "===== ITERACAO  1  =====\n",
      "0.2499710000001869\n"
     ]
    },
    {
     "name": "stderr",
     "output_type": "stream",
     "text": [
      "/home/igoromote/anaconda3/lib/python3.6/site-packages/sklearn/utils/optimize.py:203: ConvergenceWarning: newton-cg failed to converge. Increase the number of iterations.\n",
      "  \"number of iterations.\", ConvergenceWarning)\n"
     ]
    },
    {
     "name": "stdout",
     "output_type": "stream",
     "text": [
      "===== ITERACAO  2  =====\n",
      "0.41091899999992165\n",
      "===== ITERACAO  3  =====\n",
      "0.7443519999997079\n",
      "===== ITERACAO  4  =====\n",
      "1.4270729999998366\n",
      "===== ITERACAO  5  =====\n",
      "1.954518000000462\n",
      "===== ITERACAO  6  =====\n",
      "2.6049629999997705\n",
      "===== ITERACAO  7  =====\n",
      "3.3608610000001136\n",
      "===== ITERACAO  8  =====\n",
      "4.479284000000007\n",
      "===== ITERACAO  9  =====\n",
      "6.1092420000004495\n",
      "===== ITERACAO  10  =====\n",
      "8.095194000000447\n",
      "===== ITERACAO  11  =====\n",
      "10.889694000000418\n",
      "===== ITERACAO  12  =====\n",
      "12.855180999999902\n",
      "===== ITERACAO  13  =====\n",
      "15.692804000000251\n",
      "===== ITERACAO  14  =====\n",
      "16.47621100000015\n",
      "===== ITERACAO  15  =====\n",
      "21.715492000000268\n",
      "===== ITERACAO  16  =====\n",
      "25.82501400000001\n",
      "===== ITERACAO  17  =====\n",
      "30.381985999999415\n",
      "===== ITERACAO  18  =====\n",
      "30.717313000000104\n",
      "===== ITERACAO  19  =====\n",
      "30.62825100000009\n",
      "===== ITERACAO  20  =====\n",
      "37.23301999999967\n",
      "Fim Total:  266.27026399999977\n",
      "Maior acuracia em:  8  com:  0.8410208333333333\n"
     ]
    },
    {
     "data": {
      "image/png": "[encoded data removed]",
      "text/plain": [
       "<Figure size 432x288 with 1 Axes>"
      ]
     },
     "metadata": {},
     "output_type": "display_data"
    }
   ],
   "source": [
    "xToPlotMultinomial_NCG1 = np.array([])\n",
    "yToPlotMultinomial_NCG1 = np.array([])\n",
    "y2ToPlotMultinomial_NCG1 = np.array([])\n",
    "\n",
    "penalt = 'l2'\n",
    "solverMode = 'newton-cg'\n",
    "multiClass = 'multinomial'\n",
    "\n",
    "maxAccuracy = 0\n",
    "iterMaxAccuracy = 0\n",
    "\n",
    "startTotal = time.clock()\n",
    "\n",
    "for i in range (1, 21):\n",
    "    maxIter = i\n",
    "    logisticModel1 = LogisticRegression(max_iter = maxIter, multi_class = multiClass, solver = solverMode)\n",
    "    print (\"===== ITERACAO \", i, \" =====\")\n",
    "    start = time.clock()\n",
    "    logisticModel1.fit(fashionTrainParams, fashionTrainTarget)\n",
    "    print (time.clock() - start)\n",
    "\n",
    "    accuracyTrain = accuracy(trainTarget, logisticModel1, fashionTrainParams)\n",
    "    accuracyValidation = accuracy(validationTarget, logisticModel1, fashionValidationSetParams)\n",
    "\n",
    "    xToPlotMultinomial_NCG1 = np.append(xToPlotMultinomial_NCG1,maxIter)\n",
    "    yToPlotMultinomial_NCG1 = np.append(yToPlotMultinomial_NCG1,accuracyTrain)\n",
    "    y2ToPlotMultinomial_NCG1 = np.append(y2ToPlotMultinomial_NCG1,accuracyValidation)\n",
    "    if (accuracyValidation > maxAccuracy):\n",
    "        maxAccuracy = accuracyValidation\n",
    "        iterMaxAccuracy = i\n",
    "    if (accuracyValidation > bestAccuracy):\n",
    "        bestAccuracy = accuracyValidation\n",
    "        bestModel = logisticModel1\n",
    "    \n",
    "print (\"Fim Total: \", time.clock() - startTotal)\n",
    "\n",
    "plt.plot(xToPlotMultinomial_NCG1, yToPlotMultinomial_NCG1, xToPlotMultinomial_NCG1,y2ToPlotMultinomial_NCG1)\n",
    "print (\"Maior acuracia em: \", iterMaxAccuracy,\" com: \", maxAccuracy)"
   ]
  },
  {
   "cell_type": "markdown",
   "metadata": {},
   "source": [
    "# Logistic Regression 3\n",
    "- Multi-class choice: Multinomial\n",
    "- Solver: Newton-CG\n",
    "- Max Iteration: 500"
   ]
  },
  {
   "cell_type": "code",
   "execution_count": 75,
   "metadata": {
    "scrolled": true
   },
   "outputs": [
    {
     "name": "stdout",
     "output_type": "stream",
     "text": [
      "===== ITERACAO  1  =====\n"
     ]
    },
    {
     "name": "stderr",
     "output_type": "stream",
     "text": [
      "/home/igoromote/anaconda3/lib/python3.6/site-packages/sklearn/linear_model/sag.py:326: ConvergenceWarning: The max_iter was reached which means the coef_ did not converge\n",
      "  \"the coef_ did not converge\", ConvergenceWarning)\n"
     ]
    },
    {
     "name": "stdout",
     "output_type": "stream",
     "text": [
      "0.48069500000019616\n",
      "===== ITERACAO  2  =====\n",
      "1.0326990000003207\n",
      "===== ITERACAO  3  =====\n",
      "1.4570510000003196\n",
      "===== ITERACAO  4  =====\n",
      "2.1445889999995416\n",
      "===== ITERACAO  5  =====\n",
      "2.2377880000003643\n",
      "===== ITERACAO  6  =====\n",
      "2.73488400000042\n",
      "===== ITERACAO  7  =====\n",
      "3.3808639999997467\n",
      "===== ITERACAO  8  =====\n",
      "3.6133060000001933\n",
      "===== ITERACAO  9  =====\n",
      "4.04878699999972\n",
      "===== ITERACAO  10  =====\n",
      "4.734115000000202\n",
      "===== ITERACAO  11  =====\n",
      "4.996154999999817\n",
      "===== ITERACAO  12  =====\n",
      "5.287946999999804\n",
      "===== ITERACAO  13  =====\n",
      "5.884680000000117\n",
      "===== ITERACAO  14  =====\n",
      "6.21312399999988\n",
      "===== ITERACAO  15  =====\n",
      "6.860330000000431\n",
      "===== ITERACAO  16  =====\n",
      "7.19250699999975\n",
      "===== ITERACAO  17  =====\n",
      "7.8315440000005765\n",
      "===== ITERACAO  18  =====\n",
      "8.332080000000133\n",
      "===== ITERACAO  19  =====\n",
      "8.40312300000005\n",
      "===== ITERACAO  20  =====\n",
      "9.321592000000237\n",
      "Fim Total:  100.54662600000029\n",
      "Maior acuracia em:  12  com:  0.8410625\n"
     ]
    },
    {
     "data": {
      "image/png": "[encoded data removed]",
      "text/plain": [
       "<Figure size 432x288 with 1 Axes>"
      ]
     },
     "metadata": {},
     "output_type": "display_data"
    }
   ],
   "source": [
    "xToPlotMultinomial_NCG2 = np.array([])\n",
    "yToPlotMultinomial_NCG2 = np.array([])\n",
    "y2ToPlotMultinomial_NCG2 = np.array([])\n",
    "\n",
    "penalt = 'l2'\n",
    "solverMode = 'sag'\n",
    "multiClass = 'multinomial'\n",
    "\n",
    "maxAccuracy = 0\n",
    "iterMaxAccuracy = 0\n",
    "\n",
    "startTotal = time.clock()\n",
    "\n",
    "for i in range (1, 21):\n",
    "    maxIter = i\n",
    "    logisticModel2 = LogisticRegression(max_iter = maxIter, multi_class = multiClass, solver = solverMode)\n",
    "    print (\"===== ITERACAO \", i, \" =====\")\n",
    "    start = time.clock()\n",
    "    logisticModel2.fit(fashionTrainParams, fashionTrainTarget)\n",
    "    print (time.clock() - start)\n",
    "\n",
    "    accuracyTrain = accuracy(trainTarget, logisticModel2, fashionTrainParams)\n",
    "    accuracyValidation = accuracy(validationTarget, logisticModel2, fashionValidationSetParams)\n",
    "\n",
    "    xToPlotMultinomial_NCG2 = np.append(xToPlotMultinomial_NCG2,maxIter)\n",
    "    yToPlotMultinomial_NCG2 = np.append(yToPlotMultinomial_NCG2,accuracyTrain)\n",
    "    y2ToPlotMultinomial_NCG2 = np.append(y2ToPlotMultinomial_NCG2,accuracyValidation)\n",
    "    if (accuracyValidation > maxAccuracy):\n",
    "        maxAccuracy = accuracyValidation\n",
    "        iterMaxAccuracy = i\n",
    "    if (accuracyValidation > bestAccuracy):\n",
    "        bestAccuracy = accuracyValidation\n",
    "        bestModel = logisticModel2\n",
    "  \n",
    "print (\"Fim Total: \", time.clock() - startTotal)\n",
    "\n",
    "plt.plot(xToPlotMultinomial_NCG2, yToPlotMultinomial_NCG2, xToPlotMultinomial_NCG2,y2ToPlotMultinomial_NCG2)\n",
    "print (\"Maior acuracia em: \", iterMaxAccuracy,\" com: \", maxAccuracy)"
   ]
  },
  {
   "cell_type": "code",
   "execution_count": 76,
   "metadata": {
    "scrolled": true
   },
   "outputs": [
    {
     "name": "stdout",
     "output_type": "stream",
     "text": [
      "===== ITERACAO  1  =====\n"
     ]
    },
    {
     "name": "stderr",
     "output_type": "stream",
     "text": [
      "/home/igoromote/anaconda3/lib/python3.6/site-packages/sklearn/linear_model/sag.py:326: ConvergenceWarning: The max_iter was reached which means the coef_ did not converge\n",
      "  \"the coef_ did not converge\", ConvergenceWarning)\n"
     ]
    },
    {
     "name": "stdout",
     "output_type": "stream",
     "text": [
      "0.7018260000004375\n",
      "===== ITERACAO  2  =====\n",
      "1.336472999999387\n",
      "===== ITERACAO  3  =====\n",
      "1.8160840000000462\n",
      "===== ITERACAO  4  =====\n",
      "2.8309300000000803\n",
      "===== ITERACAO  5  =====\n",
      "2.9184549999999945\n",
      "===== ITERACAO  6  =====\n",
      "3.839850999999726\n",
      "===== ITERACAO  7  =====\n",
      "4.373226000000614\n",
      "===== ITERACAO  8  =====\n",
      "4.641120000000228\n",
      "===== ITERACAO  9  =====\n",
      "5.26064899999983\n",
      "===== ITERACAO  10  =====\n",
      "5.9064739999994345\n",
      "===== ITERACAO  11  =====\n",
      "6.435285000000476\n",
      "===== ITERACAO  12  =====\n",
      "6.971136000000115\n",
      "===== ITERACAO  13  =====\n",
      "7.221928000000844\n",
      "===== ITERACAO  14  =====\n",
      "8.533219000000827\n",
      "===== ITERACAO  15  =====\n",
      "8.783027999999831\n",
      "===== ITERACAO  16  =====\n",
      "9.60479099999975\n",
      "===== ITERACAO  17  =====\n",
      "10.307706999999937\n",
      "===== ITERACAO  18  =====\n",
      "10.782286000001477\n",
      "===== ITERACAO  19  =====\n",
      "11.62268899999981\n",
      "===== ITERACAO  20  =====\n",
      "11.33205000000089\n",
      "Fim Total:  129.51151599999957\n",
      "Maior acuracia em:  16  com:  0.8418958333333333\n"
     ]
    },
    {
     "data": {
      "image/png": "[encoded data removed]",
      "text/plain": [
       "<Figure size 432x288 with 1 Axes>"
      ]
     },
     "metadata": {},
     "output_type": "display_data"
    }
   ],
   "source": [
    "\n",
    "xToPlotMultinomial_NCG3 = np.array([])\n",
    "yToPlotMultinomial_NCG3 = np.array([])\n",
    "y2ToPlotMultinomial_NCG3 = np.array([])\n",
    "\n",
    "penalt = 'l2'\n",
    "solverMode = 'saga'\n",
    "multiClass = 'multinomial'\n",
    "\n",
    "maxAccuracy = 0\n",
    "iterMaxAccuracy = 0\n",
    "\n",
    "startTotal = time.clock()\n",
    "\n",
    "for i in range (1, 21):\n",
    "    maxIter = i\n",
    "    logisticModel3 = LogisticRegression(max_iter = maxIter, multi_class = multiClass, solver = solverMode)\n",
    "    print (\"===== ITERACAO \", i, \" =====\")\n",
    "    start = time.clock()\n",
    "    logisticModel3.fit(fashionTrainParams, fashionTrainTarget)\n",
    "    print (time.clock() - start)\n",
    "\n",
    "    accuracyTrain = accuracy(trainTarget, logisticModel3, fashionTrainParams)\n",
    "    accuracyValidation = accuracy(validationTarget, logisticModel3, fashionValidationSetParams)\n",
    "\n",
    "    xToPlotMultinomial_NCG3 = np.append(xToPlotMultinomial_NCG3,maxIter)\n",
    "    yToPlotMultinomial_NCG3 = np.append(yToPlotMultinomial_NCG3,accuracyTrain)\n",
    "    y2ToPlotMultinomial_NCG3 = np.append(y2ToPlotMultinomial_NCG3,accuracyValidation)\n",
    "    if (accuracyValidation > maxAccuracy):\n",
    "        maxAccuracy = accuracyValidation\n",
    "        iterMaxAccuracy = i\n",
    "    if (accuracyValidation > bestAccuracy):\n",
    "        bestAccuracy = accuracyValidation\n",
    "        bestModel = logisticModel3\n",
    "   \n",
    "print (\"Fim Total: \", time.clock() - startTotal)\n",
    "\n",
    "plt.plot(xToPlotMultinomial_NCG3, yToPlotMultinomial_NCG3, xToPlotMultinomial_NCG3,y2ToPlotMultinomial_NCG3)\n",
    "print (\"Maior acuracia em: \", iterMaxAccuracy,\" com: \", maxAccuracy)"
   ]
  },
  {
   "cell_type": "code",
   "execution_count": 77,
   "metadata": {
    "scrolled": true
   },
   "outputs": [
    {
     "name": "stdout",
     "output_type": "stream",
     "text": [
      "===== ITERACAO  1  =====\n"
     ]
    },
    {
     "name": "stderr",
     "output_type": "stream",
     "text": [
      "/home/igoromote/anaconda3/lib/python3.6/site-packages/sklearn/utils/optimize.py:203: ConvergenceWarning: newton-cg failed to converge. Increase the number of iterations.\n",
      "  \"number of iterations.\", ConvergenceWarning)\n"
     ]
    },
    {
     "name": "stdout",
     "output_type": "stream",
     "text": [
      "1.481713999999556\n",
      "===== ITERACAO  2  =====\n",
      "2.9210450000009587\n",
      "===== ITERACAO  3  =====\n",
      "4.31816599999911\n",
      "===== ITERACAO  4  =====\n",
      "5.829171999999744\n",
      "===== ITERACAO  5  =====\n",
      "7.384492000001046\n",
      "===== ITERACAO  6  =====\n",
      "8.907040000000052\n",
      "===== ITERACAO  7  =====\n",
      "10.571067000000767\n",
      "===== ITERACAO  8  =====\n",
      "12.190630999999485\n",
      "===== ITERACAO  9  =====\n",
      "14.047177999998894\n",
      "===== ITERACAO  10  =====\n",
      "15.985327000000325\n",
      "===== ITERACAO  11  =====\n",
      "17.922333000000435\n",
      "===== ITERACAO  12  =====\n",
      "20.231870999999956\n",
      "===== ITERACAO  13  =====\n",
      "22.939947999999276\n",
      "===== ITERACAO  14  =====\n",
      "25.538997999999992\n",
      "===== ITERACAO  15  =====\n",
      "28.576429999999164\n",
      "===== ITERACAO  16  =====\n",
      "31.203636000000188\n",
      "===== ITERACAO  17  =====\n",
      "34.06356400000004\n",
      "===== ITERACAO  18  =====\n",
      "38.679746999998315\n",
      "===== ITERACAO  19  =====\n",
      "41.71541799999977\n",
      "===== ITERACAO  20  =====\n",
      "46.3652860000002\n",
      "Fim Total:  395.00561500000003\n",
      "Maior acuracia em:  11  com:  0.8370833333333333\n"
     ]
    },
    {
     "data": {
      "image/png": "[encoded data removed]",
      "text/plain": [
       "<Figure size 432x288 with 1 Axes>"
      ]
     },
     "metadata": {},
     "output_type": "display_data"
    }
   ],
   "source": [
    "\n",
    "xToPlotMultinomial_NCG4 = np.array([])\n",
    "yToPlotMultinomial_NCG4 = np.array([])\n",
    "y2ToPlotMultinomial_NCG4 = np.array([])\n",
    "\n",
    "penalt = 'l2'\n",
    "solverMode = 'newton-cg'\n",
    "multiClass = 'ovr'\n",
    "\n",
    "maxAccuracy = 0\n",
    "iterMaxAccuracy = 0\n",
    "\n",
    "startTotal = time.clock()\n",
    "\n",
    "for i in range (1, 21):\n",
    "    maxIter = i\n",
    "    logisticModel4 = LogisticRegression(max_iter = maxIter, multi_class = multiClass, solver = solverMode)\n",
    "    print (\"===== ITERACAO \", i, \" =====\")\n",
    "    start = time.clock()\n",
    "    logisticModel4.fit(fashionTrainParams, fashionTrainTarget)\n",
    "    print (time.clock() - start)\n",
    "\n",
    "    accuracyTrain = accuracy(trainTarget, logisticModel4, fashionTrainParams)\n",
    "    accuracyValidation = accuracy(validationTarget, logisticModel4, fashionValidationSetParams)\n",
    "\n",
    "    xToPlotMultinomial_NCG4 = np.append(xToPlotMultinomial_NCG4,maxIter)\n",
    "    yToPlotMultinomial_NCG4 = np.append(yToPlotMultinomial_NCG4,accuracyTrain)\n",
    "    y2ToPlotMultinomial_NCG4 = np.append(y2ToPlotMultinomial_NCG4,accuracyValidation)\n",
    "    if (accuracyValidation > maxAccuracy):\n",
    "        maxAccuracy = accuracyValidation\n",
    "        iterMaxAccuracy = i\n",
    "    if (accuracyValidation > bestAccuracy):\n",
    "        bestAccuracy = accuracyValidation\n",
    "        bestModel = logisticModel4\n",
    "    \n",
    "print (\"Fim Total: \", time.clock() - startTotal)\n",
    "\n",
    "plt.plot(xToPlotMultinomial_NCG4, yToPlotMultinomial_NCG4, xToPlotMultinomial_NCG4,y2ToPlotMultinomial_NCG4)\n",
    "print (\"Maior acuracia em: \", iterMaxAccuracy,\" com: \", maxAccuracy)"
   ]
  },
  {
   "cell_type": "markdown",
   "metadata": {},
   "source": [
    "# Logistic Regression 4\n",
    "- Multi-class choice: Multinomial\n",
    "- Solver: SAG\n",
    "- Max Iteration: 10"
   ]
  },
  {
   "cell_type": "code",
   "execution_count": 78,
   "metadata": {
    "scrolled": true
   },
   "outputs": [
    {
     "name": "stdout",
     "output_type": "stream",
     "text": [
      "===== ITERACAO  1  =====\n",
      "0.7286199999998644\n",
      "===== ITERACAO  2  =====\n",
      "1.3707740000008926\n",
      "===== ITERACAO  3  =====\n",
      "1.9479730000002746\n",
      "===== ITERACAO  4  =====\n",
      "2.516352000000552\n",
      "===== ITERACAO  5  =====\n",
      "3.223764000000301\n",
      "===== ITERACAO  6  =====\n",
      "4.054543000000194\n",
      "===== ITERACAO  7  =====\n",
      "4.830899999999019\n",
      "===== ITERACAO  8  =====\n",
      "5.853350999999748\n",
      "===== ITERACAO  9  =====\n",
      "7.012829999999667\n",
      "===== ITERACAO  10  =====\n",
      "8.655174000001352\n",
      "===== ITERACAO  11  =====\n",
      "10.141150999999809\n",
      "===== ITERACAO  12  =====\n",
      "12.89460699999836\n",
      "===== ITERACAO  13  =====\n",
      "13.89878299999873\n",
      "===== ITERACAO  14  =====\n",
      "15.944342999999208\n",
      "===== ITERACAO  15  =====\n",
      "19.528008000001137\n",
      "===== ITERACAO  16  =====\n",
      "20.923494999999093\n",
      "===== ITERACAO  17  =====\n",
      "24.19607299999916\n",
      "===== ITERACAO  18  =====\n",
      "25.737418999999136\n",
      "===== ITERACAO  19  =====\n",
      "29.186271999999008\n",
      "===== ITERACAO  20  =====\n",
      "32.471378000000186\n",
      "Fim Total:  249.34550499999932\n",
      "Maior acuracia em:  9  com:  0.8361875\n"
     ]
    },
    {
     "data": {
      "image/png": "[encoded data removed]",
      "text/plain": [
       "<Figure size 432x288 with 1 Axes>"
      ]
     },
     "metadata": {},
     "output_type": "display_data"
    }
   ],
   "source": [
    "\n",
    "xToPlotMultinomial_NCG5 = np.array([])\n",
    "yToPlotMultinomial_NCG5 = np.array([])\n",
    "y2ToPlotMultinomial_NCG5 = np.array([])\n",
    "\n",
    "penalt = 'l1'\n",
    "solverMode = 'liblinear'\n",
    "multiClass = 'ovr'\n",
    "\n",
    "maxAccuracy = 0\n",
    "iterMaxAccuracy = 0\n",
    "\n",
    "startTotal = time.clock()\n",
    "\n",
    "for i in range (1, 21):\n",
    "    maxIter = i\n",
    "    logisticModel5 = LogisticRegression(max_iter = maxIter, multi_class = multiClass, solver = solverMode)\n",
    "    print (\"===== ITERACAO \", i, \" =====\")\n",
    "    start = time.clock()\n",
    "    logisticModel5.fit(fashionTrainParams, fashionTrainTarget)\n",
    "    print (time.clock() - start)\n",
    "\n",
    "    accuracyTrain = accuracy(trainTarget, logisticModel5, fashionTrainParams)\n",
    "    accuracyValidation = accuracy(validationTarget, logisticModel5, fashionValidationSetParams)\n",
    "\n",
    "    xToPlotMultinomial_NCG5 = np.append(xToPlotMultinomial_NCG5,maxIter)\n",
    "    yToPlotMultinomial_NCG5 = np.append(yToPlotMultinomial_NCG5,accuracyTrain)\n",
    "    y2ToPlotMultinomial_NCG5 = np.append(y2ToPlotMultinomial_NCG5,accuracyValidation)\n",
    "    if (accuracyValidation > maxAccuracy):\n",
    "        maxAccuracy = accuracyValidation\n",
    "        iterMaxAccuracy = i\n",
    "    if (accuracyValidation > bestAccuracy):\n",
    "        bestAccuracy = accuracyValidation\n",
    "        bestModel = logisticModel5\n",
    "    \n",
    "print (\"Fim Total: \", time.clock() - startTotal)\n",
    "\n",
    "plt.plot(xToPlotMultinomial_NCG5, yToPlotMultinomial_NCG5, xToPlotMultinomial_NCG5,y2ToPlotMultinomial_NCG5)\n",
    "print (\"Maior acuracia em: \", iterMaxAccuracy,\" com: \", maxAccuracy)"
   ]
  },
  {
   "cell_type": "code",
   "execution_count": 79,
   "metadata": {
    "scrolled": true
   },
   "outputs": [
    {
     "name": "stdout",
     "output_type": "stream",
     "text": [
      "===== ITERACAO  1  =====\n"
     ]
    },
    {
     "name": "stderr",
     "output_type": "stream",
     "text": [
      "/home/igoromote/anaconda3/lib/python3.6/site-packages/sklearn/linear_model/sag.py:326: ConvergenceWarning: The max_iter was reached which means the coef_ did not converge\n",
      "  \"the coef_ did not converge\", ConvergenceWarning)\n"
     ]
    },
    {
     "name": "stdout",
     "output_type": "stream",
     "text": [
      "0.8610630000002857\n",
      "===== ITERACAO  2  =====\n",
      "2.000123000001622\n",
      "===== ITERACAO  3  =====\n",
      "2.8352219999997033\n",
      "===== ITERACAO  4  =====\n",
      "3.643417999999656\n",
      "===== ITERACAO  5  =====\n",
      "4.366242000000057\n",
      "===== ITERACAO  6  =====\n",
      "5.180366000000504\n",
      "===== ITERACAO  7  =====\n",
      "6.283196999998836\n",
      "===== ITERACAO  8  =====\n",
      "6.95538999999917\n",
      "===== ITERACAO  9  =====\n",
      "7.826069000000643\n",
      "===== ITERACAO  10  =====\n",
      "8.481233999998949\n",
      "===== ITERACAO  11  =====\n",
      "9.487842000000455\n",
      "===== ITERACAO  12  =====\n",
      "10.24294700000064\n",
      "===== ITERACAO  13  =====\n",
      "11.960219000000507\n",
      "===== ITERACAO  14  =====\n",
      "11.878665999998702\n",
      "===== ITERACAO  15  =====\n",
      "12.499810000001162\n",
      "===== ITERACAO  16  =====\n",
      "13.59483899999941\n",
      "===== ITERACAO  17  =====\n",
      "14.911722000000736\n",
      "===== ITERACAO  18  =====\n",
      "15.644138999999996\n",
      "===== ITERACAO  19  =====\n",
      "15.87111399999958\n",
      "===== ITERACAO  20  =====\n",
      "17.10973699999886\n",
      "Fim Total:  185.9788239999998\n",
      "Maior acuracia em:  10  com:  0.8389166666666666\n"
     ]
    },
    {
     "data": {
      "image/png": "[encoded data removed]",
      "text/plain": [
       "<Figure size 432x288 with 1 Axes>"
      ]
     },
     "metadata": {},
     "output_type": "display_data"
    }
   ],
   "source": [
    "\n",
    "xToPlotMultinomial_NCG6 = np.array([])\n",
    "yToPlotMultinomial_NCG6 = np.array([])\n",
    "y2ToPlotMultinomial_NCG6 = np.array([])\n",
    "\n",
    "penalt = 'l2'\n",
    "solverMode = 'sag'\n",
    "multiClass = 'ovr'\n",
    "\n",
    "maxAccuracy = 0\n",
    "iterMaxAccuracy = 0\n",
    "\n",
    "startTotal = time.clock()\n",
    "\n",
    "for i in range (1, 21):\n",
    "    maxIter = i\n",
    "    logisticModel6 = LogisticRegression(max_iter = maxIter, multi_class = multiClass, solver = solverMode)\n",
    "    print (\"===== ITERACAO \", i, \" =====\")\n",
    "    start = time.clock()\n",
    "    logisticModel6.fit(fashionTrainParams, fashionTrainTarget)\n",
    "    print (time.clock() - start)\n",
    "\n",
    "    accuracyTrain = accuracy(trainTarget, logisticModel6, fashionTrainParams)\n",
    "    accuracyValidation = accuracy(validationTarget, logisticModel6, fashionValidationSetParams)\n",
    "\n",
    "    xToPlotMultinomial_NCG6 = np.append(xToPlotMultinomial_NCG6,maxIter)\n",
    "    yToPlotMultinomial_NCG6 = np.append(yToPlotMultinomial_NCG6,accuracyTrain)\n",
    "    y2ToPlotMultinomial_NCG6 = np.append(y2ToPlotMultinomial_NCG6,accuracyValidation)\n",
    "    if (accuracyValidation > maxAccuracy):\n",
    "        maxAccuracy = accuracyValidation\n",
    "        iterMaxAccuracy = i\n",
    "    if (accuracyValidation > bestAccuracy):\n",
    "        bestAccuracy = accuracyValidation\n",
    "        bestModel = logisticModel6\n",
    "    \n",
    "print (\"Fim Total: \", time.clock() - startTotal)\n",
    "\n",
    "plt.plot(xToPlotMultinomial_NCG6, yToPlotMultinomial_NCG6, xToPlotMultinomial_NCG6,y2ToPlotMultinomial_NCG6)\n",
    "print (\"Maior acuracia em: \", iterMaxAccuracy,\" com: \", maxAccuracy)"
   ]
  },
  {
   "cell_type": "code",
   "execution_count": 89,
   "metadata": {},
   "outputs": [
    {
     "name": "stdout",
     "output_type": "stream",
     "text": [
      "Score : 0.8425\n",
      "0.8425\n",
      "(array([0.799, 0.972, 0.729, 0.87 , 0.799, 0.869, 0.579, 0.912, 0.942,\n",
      "       0.954]), array([0.79265873, 0.95952616, 0.7771855 , 0.85043988, 0.73302752,\n",
      "       0.94353963, 0.63626374, 0.89587426, 0.92991115, 0.89493433]), array([0.79581673, 0.9657228 , 0.75232198, 0.86010875, 0.7645933 ,\n",
      "       0.90473712, 0.60628272, 0.90386521, 0.93591654, 0.92352372]), array([1008, 1013,  938, 1023, 1090,  921,  910, 1018, 1013, 1066]))\n",
      "0.1137627752878607\n",
      "MATRIX\n",
      "[[799  11  12  44   6   0 103   0  24   1]\n",
      " [  1 972   5  17   0   1   4   0   0   0]\n",
      " [ 19   1 729  12 127   0 102   0  10   0]\n",
      " [ 30  23  10 870  43   0  21   0   3   0]\n",
      " [  0   1  74  37 799   0  85   0   4   0]\n",
      " [  2   0   0   1   0 869   0  66  12  50]\n",
      " [153   5  99  36 110   1 579   0  17   0]\n",
      " [  0   0   0   0   0  28   0 912   0  60]\n",
      " [  4   0   9   6   5  11  16   6 942   1]\n",
      " [  0   0   0   0   0  11   0  34   1 954]]\n",
      "(10000,)\n"
     ]
    }
   ],
   "source": [
    "print(\"Score : \"+ str(bestModel.score(fashionTestParams, fashionTestTarget)))\n",
    "print(metrics.accuracy_score(bestModel.predict(fashionTestParams), fashionTestTarget))\n",
    "print(metrics.precision_recall_fscore_support(bestModel.predict(fashionTestParams), fashionTestTarget))\n",
    "\n",
    "costFunction = regressionLogisticCostFunction(testTarget, bestModel, fashionTestParams)\n",
    "print (costFunction)\n",
    "\n",
    "\n",
    "\n",
    "print (\"MATRIX\")\n",
    "confusion_matrix = construct_confusion_matrix (fashionTestTarget, bestModel, fashionTestParams)\n",
    "print (confusion_matrix)\n",
    "\n",
    "print (fashionTestTarget.shape)\n"
   ]
  },
  {
   "cell_type": "code",
   "execution_count": 38,
   "metadata": {},
   "outputs": [
    {
     "name": "stdout",
     "output_type": "stream",
     "text": [
      "Custo e acurácia 1:\n",
      "0.8856784461175559\n",
      "0.8518\n",
      "(array([0.80844156, 0.95741056, 0.76583333, 0.8784219 , 0.77552743,\n",
      "       0.90184049, 0.59292035, 0.94689542, 0.95213229, 0.95289256]), array([0.81639344, 0.96315338, 0.76328904, 0.84639255, 0.72476341,\n",
      "       0.9440367 , 0.65921288, 0.91838352, 0.94391717, 0.9427637 ]), array([0.81239804, 0.96027339, 0.76455907, 0.86210984, 0.74928659,\n",
      "       0.9224563 , 0.62431173, 0.93242156, 0.94800693, 0.94780107]), array([1220, 1167, 1204, 1289, 1268, 1090, 1118, 1262, 1159, 1223]))\n",
      "Custo e acurácia 2:\n",
      "0.9095479120806638\n",
      "0.8323\n",
      "(array([0.79788961, 0.95655877, 0.75166667, 0.84782609, 0.76371308,\n",
      "       0.89833479, 0.5695897 , 0.91666667, 0.91122715, 0.92066116]), array([0.78202068, 0.92276089, 0.75734677, 0.83704293, 0.73160873,\n",
      "       0.90788308, 0.63554758, 0.90048154, 0.90727903, 0.93065998]), array([0.78987545, 0.93935592, 0.75449603, 0.8424    , 0.74731627,\n",
      "       0.9030837 , 0.60076368, 0.90850202, 0.90924881, 0.92563357]), array([1257, 1217, 1191, 1258, 1237, 1129, 1114, 1246, 1154, 1197]))\n",
      "Custo e acurácia 3:\n",
      "0.9120908310807101\n",
      "0.8318\n",
      "(array([0.80357143, 0.9548552 , 0.75      , 0.85185185, 0.75864979,\n",
      "       0.90184049, 0.56637168, 0.91584967, 0.90078329, 0.9214876 ]), array([0.78014184, 0.92263374, 0.7569386 , 0.82591725, 0.73447712,\n",
      "       0.90660793, 0.63082437, 0.90330379, 0.91189427, 0.93305439]), array([0.79168333, 0.93846798, 0.75345333, 0.83868411, 0.74636779,\n",
      "       0.90421793, 0.59686308, 0.90953347, 0.90630473, 0.92723493]), array([1269, 1215, 1189, 1281, 1224, 1135, 1116, 1241, 1135, 1195]))\n",
      "Custo e acurácia 4:\n",
      "0.8862584360808184\n",
      "0.8518\n",
      "(array([0.81006494, 0.95826235, 0.75333333, 0.88244767, 0.77130802,\n",
      "       0.89921122, 0.59372486, 0.94771242, 0.95300261, 0.95123967]), array([0.81336593, 0.96566524, 0.77463582, 0.83984674, 0.72367379,\n",
      "       0.94388224, 0.64736842, 0.91772152, 0.94315245, 0.94266994]), array([0.81171208, 0.96194955, 0.76383608, 0.86062034, 0.74673203,\n",
      "       0.92100539, 0.61938733, 0.93247588, 0.94805195, 0.94693542]), array([1227, 1165, 1167, 1305, 1263, 1087, 1140, 1264, 1161, 1221]))\n",
      "Custo e acurácia 5:\n",
      "0.8968488283413206\n",
      "0.8437\n",
      "(array([0.81168831, 0.95741056, 0.7625    , 0.86312399, 0.77299578,\n",
      "       0.89833479, 0.57683025, 0.94281046, 0.9408181 , 0.94793388]), array([0.79617834, 0.9533503 , 0.76441103, 0.85079365, 0.71956009,\n",
      "       0.93266606, 0.65063521, 0.92098962, 0.93431288, 0.9370915 ]), array([0.80385852, 0.95537612, 0.76345432, 0.85691447, 0.7453214 ,\n",
      "       0.91517857, 0.61151386, 0.93177231, 0.93755421, 0.94248151]), array([1256, 1179, 1197, 1260, 1273, 1099, 1102, 1253, 1157, 1224]))\n",
      "Custo e acurácia 7:\n",
      "0.8121206399509928\n",
      "0.8403\n",
      "(array([0.83198052, 0.95655877, 0.74083333, 0.88244767, 0.77130802,\n",
      "       0.8694128 , 0.45615447, 0.92647059, 0.95387293, 0.9553719 ]), array([0.79334365, 0.96643718, 0.72809173, 0.80410858, 0.66715328,\n",
      "       0.94207028, 0.67741935, 0.8957346 , 0.92333614, 0.92554043]), array([0.81220285, 0.9614726 , 0.73440727, 0.84145873, 0.71545988,\n",
      "       0.90428441, 0.54519231, 0.91084337, 0.93835616, 0.9402196 ]), array([1292, 1162, 1221, 1363, 1370, 1053,  837, 1266, 1187, 1249]))\n",
      "Custo e acurácia 8:\n",
      "0.8708589992752604\n",
      "0.8419\n",
      "(array([0.81331169, 0.95144804, 0.77083333, 0.85748792, 0.76371308,\n",
      "       0.91411043, 0.56556718, 0.92892157, 0.9329852 , 0.94132231]), array([0.78959811, 0.93944491, 0.76006574, 0.82049307, 0.73577236,\n",
      "       0.9173263 , 0.66258247, 0.91619662, 0.93055556, 0.94444444]), array([0.80127949, 0.94540838, 0.76541167, 0.83858268, 0.7494824 ,\n",
      "       0.91571554, 0.61024306, 0.92251521, 0.9317688 , 0.94288079]), array([1269, 1189, 1217, 1298, 1230, 1137, 1061, 1241, 1152, 1206]))\n",
      "Custo e acurácia 10:\n",
      "0.8493361765353084\n",
      "0.851\n",
      "(array([0.81168831, 0.95315162, 0.75833333, 0.88566828, 0.79578059,\n",
      "       0.88343558, 0.55189059, 0.94281046, 0.95213229, 0.95289256]), array([0.80906149, 0.96465517, 0.77315208, 0.83523159, 0.70268256,\n",
      "       0.94293732, 0.67920792, 0.90937746, 0.92010093, 0.93663688]), array([0.81037277, 0.95886889, 0.76567101, 0.85971082, 0.74633953,\n",
      "       0.91221719, 0.60896582, 0.92579222, 0.9358426 , 0.9446948 ]), array([1236, 1160, 1177, 1317, 1342, 1069, 1010, 1269, 1189, 1231]))\n",
      "Custo e acurácia 11:\n",
      "0.8575927407099929\n",
      "0.8482\n",
      "(array([0.8125    , 0.95144804, 0.76916667, 0.87439614, 0.77299578,\n",
      "       0.88869413, 0.56154465, 0.94607843, 0.95474326, 0.94545455]), array([0.8079096 , 0.95797599, 0.76280992, 0.83602771, 0.71062839,\n",
      "       0.93715342, 0.67179981, 0.91397001, 0.92184874, 0.93847416]), array([0.8101983 , 0.95470085, 0.7659751 , 0.85478158, 0.74050121,\n",
      "       0.9122807 , 0.61174408, 0.92974709, 0.9380077 , 0.94195142]), array([1239, 1166, 1210, 1299, 1289, 1082, 1039, 1267, 1190, 1219]))\n",
      "Custo e acurácia 13:\n",
      "0.8462425552578922\n",
      "0.849\n",
      "(array([0.8125    , 0.95400341, 0.7675    , 0.87520129, 0.78481013,\n",
      "       0.88869413, 0.55913113, 0.94689542, 0.95474326, 0.94628099]), array([0.80272654, 0.95890411, 0.7675    , 0.83873457, 0.71155318,\n",
      "       0.94413408, 0.67344961, 0.91044776, 0.92652027, 0.9392945 ]), array([0.8075837 , 0.95644748, 0.7675    , 0.85657998, 0.74638844,\n",
      "       0.91557562, 0.61098901, 0.92831398, 0.94042006, 0.9427748 ]), array([1247, 1168, 1200, 1296, 1307, 1074, 1032, 1273, 1184, 1219]))\n",
      "Custo e acurácia 14:\n",
      "0.8688466224387561\n",
      "0.8425\n",
      "(array([0.80925325, 0.95229983, 0.76833333, 0.86070853, 0.76455696,\n",
      "       0.91586328, 0.56395817, 0.93055556, 0.93124456, 0.94132231]), array([0.79569034, 0.93478261, 0.7557377 , 0.82167563, 0.72829582,\n",
      "       0.92559787, 0.66319773, 0.91706924, 0.93124456, 0.94210091]), array([0.80241449, 0.94345992, 0.76198347, 0.84073928, 0.745986  ,\n",
      "       0.92070485, 0.60956522, 0.92376318, 0.93124456, 0.94171145]), array([1253, 1196, 1220, 1301, 1244, 1129, 1057, 1242, 1149, 1209]))\n"
     ]
    }
   ],
   "source": [
    "\n",
    "fashionTestParams, fashionTestTarget = formatArray (fashionTestDataset, 0)\n",
    "fashtionTestTargetFormated = createTarget(fashionTestTarget)\n",
    "fashionTestParams = addColumnThetaZero(fashionTestParams)\n",
    "\n",
    "testCostFunction1 = regressionLogisticCostFunction(fashtionTestTargetFormated, logisticModel, fashionTestParams)\n",
    "testCostFunction2 = regressionLogisticCostFunction(fashtionTestTargetFormated, logisticModel2, fashionTestParams)\n",
    "testCostFunction3 = regressionLogisticCostFunction(fashtionTestTargetFormated, logisticModel3, fashionTestParams)\n",
    "testCostFunction4 = regressionLogisticCostFunction(fashtionTestTargetFormated, logisticModel4, fashionTestParams)\n",
    "testCostFunction5 = regressionLogisticCostFunction(fashtionTestTargetFormated, logisticModel5, fashionTestParams)\n",
    "testCostFunction7 = regressionLogisticCostFunction(fashtionTestTargetFormated, logisticModel7, fashionTestParams)\n",
    "testCostFunction8 = regressionLogisticCostFunction(fashtionTestTargetFormated, logisticModel8, fashionTestParams)\n",
    "testCostFunction10 = regressionLogisticCostFunction(fashtionTestTargetFormated, logisticModel10, fashionTestParams)\n",
    "testCostFunction11 = regressionLogisticCostFunction(fashtionTestTargetFormated, logisticModel11, fashionTestParams)\n",
    "testCostFunction13 = regressionLogisticCostFunction(fashtionTestTargetFormated, logisticModel13, fashionTestParams)\n",
    "testCostFunction14 = regressionLogisticCostFunction(fashtionTestTargetFormated, logisticModel14, fashionTestParams)\n",
    "print (\"Custo e acurácia 1:\")\n",
    "print (testCostFunction1)\n",
    "print(metrics.accuracy_score(logisticModel.predict(fashionTestParams), fashionTestTarget))\n",
    "print(metrics.precision_recall_fscore_support(logisticModel.predict(fashionValidationSetParams), fashionValidationSetTarget))\n",
    "print (\"Custo e acurácia 2:\")\n",
    "print (testCostFunction2)\n",
    "print(metrics.accuracy_score(logisticModel2.predict(fashionTestParams), fashionTestTarget))\n",
    "print(metrics.precision_recall_fscore_support(logisticModel2.predict(fashionValidationSetParams), fashionValidationSetTarget))\n",
    "print (\"Custo e acurácia 3:\")\n",
    "print (testCostFunction3)\n",
    "print(metrics.accuracy_score(logisticModel3.predict(fashionTestParams), fashionTestTarget))\n",
    "print(metrics.precision_recall_fscore_support(logisticModel3.predict(fashionValidationSetParams), fashionValidationSetTarget))\n",
    "print (\"Custo e acurácia 4:\")\n",
    "print (testCostFunction4)\n",
    "print(metrics.accuracy_score(logisticModel4.predict(fashionTestParams), fashionTestTarget))\n",
    "print(metrics.precision_recall_fscore_support(logisticModel4.predict(fashionValidationSetParams), fashionValidationSetTarget))\n",
    "print (\"Custo e acurácia 5:\")\n",
    "print (testCostFunction5)\n",
    "print(metrics.accuracy_score(logisticModel5.predict(fashionTestParams), fashionTestTarget))\n",
    "print(metrics.precision_recall_fscore_support(logisticModel5.predict(fashionValidationSetParams), fashionValidationSetTarget))\n",
    "print (\"Custo e acurácia 7:\")\n",
    "print (testCostFunction7)\n",
    "print(metrics.accuracy_score(logisticModel7.predict(fashionTestParams), fashionTestTarget))\n",
    "print(metrics.precision_recall_fscore_support(logisticModel7.predict(fashionValidationSetParams), fashionValidationSetTarget))\n",
    "print (\"Custo e acurácia 8:\")\n",
    "print (testCostFunction8)\n",
    "print(metrics.accuracy_score(logisticModel8.predict(fashionTestParams), fashionTestTarget))\n",
    "print(metrics.precision_recall_fscore_support(logisticModel8.predict(fashionValidationSetParams), fashionValidationSetTarget))\n",
    "print (\"Custo e acurácia 10:\")\n",
    "print (testCostFunction10)\n",
    "print(metrics.accuracy_score(logisticModel10.predict(fashionTestParams), fashionTestTarget))\n",
    "print(metrics.precision_recall_fscore_support(logisticModel10.predict(fashionValidationSetParams), fashionValidationSetTarget))\n",
    "print (\"Custo e acurácia 11:\")\n",
    "print (testCostFunction11)\n",
    "print(metrics.accuracy_score(logisticModel11.predict(fashionTestParams), fashionTestTarget))\n",
    "print(metrics.precision_recall_fscore_support(logisticModel11.predict(fashionValidationSetParams), fashionValidationSetTarget))\n",
    "print (\"Custo e acurácia 13:\")\n",
    "print (testCostFunction13)\n",
    "print(metrics.accuracy_score(logisticModel13.predict(fashionTestParams), fashionTestTarget))\n",
    "print(metrics.precision_recall_fscore_support(logisticModel13.predict(fashionValidationSetParams), fashionValidationSetTarget))\n",
    "print (\"Custo e acurácia 14:\")\n",
    "print (testCostFunction14)\n",
    "print(metrics.accuracy_score(logisticModel14.predict(fashionTestParams), fashionTestTarget))\n",
    "print(metrics.precision_recall_fscore_support(logisticModel14.predict(fashionValidationSetParams), fashionValidationSetTarget))"
   ]
  },
  {
   "cell_type": "code",
   "execution_count": 54,
   "metadata": {},
   "outputs": [
    {
     "ename": "NameError",
     "evalue": "name 'fashtionTestTargetFormated' is not defined",
     "output_type": "error",
     "traceback": [
      "\u001b[0;31m---------------------------------------------------------------------------\u001b[0m",
      "\u001b[0;31mNameError\u001b[0m                                 Traceback (most recent call last)",
      "\u001b[0;32m<ipython-input-54-62919b7a6919>\u001b[0m in \u001b[0;36m<module>\u001b[0;34m()\u001b[0m\n\u001b[0;32m----> 1\u001b[0;31m \u001b[0mtestCostFunction1\u001b[0m \u001b[0;34m=\u001b[0m \u001b[0mregressionLogisticCostFunction\u001b[0m\u001b[0;34m(\u001b[0m\u001b[0mfashtionTestTargetFormated\u001b[0m\u001b[0;34m,\u001b[0m \u001b[0mlogisticModel\u001b[0m\u001b[0;34m,\u001b[0m \u001b[0mfashionTestParams\u001b[0m\u001b[0;34m)\u001b[0m\u001b[0;34m\u001b[0m\u001b[0m\n\u001b[0m\u001b[1;32m      2\u001b[0m \u001b[0mtestCostFunction2\u001b[0m \u001b[0;34m=\u001b[0m \u001b[0mregressionLogisticCostFunction\u001b[0m\u001b[0;34m(\u001b[0m\u001b[0mfashtionTestTargetFormated\u001b[0m\u001b[0;34m,\u001b[0m \u001b[0mlogisticModel2\u001b[0m\u001b[0;34m,\u001b[0m \u001b[0mfashionTestParams\u001b[0m\u001b[0;34m)\u001b[0m\u001b[0;34m\u001b[0m\u001b[0m\n\u001b[1;32m      3\u001b[0m \u001b[0mtestCostFunction3\u001b[0m \u001b[0;34m=\u001b[0m \u001b[0mregressionLogisticCostFunction\u001b[0m\u001b[0;34m(\u001b[0m\u001b[0mfashtionTestTargetFormated\u001b[0m\u001b[0;34m,\u001b[0m \u001b[0mlogisticModel3\u001b[0m\u001b[0;34m,\u001b[0m \u001b[0mfashionTestParams\u001b[0m\u001b[0;34m)\u001b[0m\u001b[0;34m\u001b[0m\u001b[0m\n\u001b[1;32m      4\u001b[0m \u001b[0mtestCostFunction4\u001b[0m \u001b[0;34m=\u001b[0m \u001b[0mregressionLogisticCostFunction\u001b[0m\u001b[0;34m(\u001b[0m\u001b[0mfashtionTestTargetFormated\u001b[0m\u001b[0;34m,\u001b[0m \u001b[0mlogisticModel4\u001b[0m\u001b[0;34m,\u001b[0m \u001b[0mfashionTestParams\u001b[0m\u001b[0;34m)\u001b[0m\u001b[0;34m\u001b[0m\u001b[0m\n\u001b[1;32m      5\u001b[0m \u001b[0mtestCostFunction5\u001b[0m \u001b[0;34m=\u001b[0m \u001b[0mregressionLogisticCostFunction\u001b[0m\u001b[0;34m(\u001b[0m\u001b[0mfashtionTestTargetFormated\u001b[0m\u001b[0;34m,\u001b[0m \u001b[0mlogisticModel5\u001b[0m\u001b[0;34m,\u001b[0m \u001b[0mfashionTestParams\u001b[0m\u001b[0;34m)\u001b[0m\u001b[0;34m\u001b[0m\u001b[0m\n",
      "\u001b[0;31mNameError\u001b[0m: name 'fashtionTestTargetFormated' is not defined"
     ]
    }
   ],
   "source": [
    "testCostFunction1 = regressionLogisticCostFunction(fashtionTestTargetFormated, logisticModel, fashionTestParams)\n",
    "testCostFunction2 = regressionLogisticCostFunction(fashtionTestTargetFormated, logisticModel2, fashionTestParams)\n",
    "testCostFunction3 = regressionLogisticCostFunction(fashtionTestTargetFormated, logisticModel3, fashionTestParams)\n",
    "testCostFunction4 = regressionLogisticCostFunction(fashtionTestTargetFormated, logisticModel4, fashionTestParams)\n",
    "testCostFunction5 = regressionLogisticCostFunction(fashtionTestTargetFormated, logisticModel5, fashionTestParams)\n",
    "\n",
    "print (\"Custo e acurácia 1:\")\n",
    "print (testCostFunction1)\n",
    "print(metrics.accuracy_score(logisticModel.predict(fashionTestParams), fashionTestTarget))\n",
    "print(metrics.precision_recall_fscore_support(logisticModel.predict(fashionValidationSetParams), fashionValidationSetTarget))\n",
    "print (\"Custo e acurácia 2:\")\n",
    "print (testCostFunction2)\n",
    "print(metrics.accuracy_score(logisticModel2.predict(fashionTestParams), fashionTestTarget))\n",
    "print(metrics.precision_recall_fscore_support(logisticModel2.predict(fashionValidationSetParams), fashionValidationSetTarget))\n",
    "print (\"Custo e acurácia 3:\")\n",
    "print (testCostFunction3)\n",
    "print(metrics.accuracy_score(logisticModel3.predict(fashionTestParams), fashionTestTarget))\n",
    "print(metrics.precision_recall_fscore_support(logisticModel3.predict(fashionValidationSetParams), fashionValidationSetTarget))\n",
    "print (\"Custo e acurácia 4:\")\n",
    "print (testCostFunction4)\n",
    "print(metrics.accuracy_score(logisticModel4.predict(fashionTestParams), fashionTestTarget))\n",
    "print(metrics.precision_recall_fscore_support(logisticModel4.predict(fashionValidationSetParams), fashionValidationSetTarget))\n",
    "print (\"Custo e acurácia 5:\")\n",
    "print (testCostFunction5)"
   ]
  },
  {
   "cell_type": "code",
   "execution_count": 81,
   "metadata": {},
   "outputs": [],
   "source": [
    "accuracyTest = accuracy(testTarget, bestModel, fashionTestParams)"
   ]
  },
  {
   "cell_type": "code",
   "execution_count": 82,
   "metadata": {},
   "outputs": [
    {
     "name": "stdout",
     "output_type": "stream",
     "text": [
      "0.8425\n"
     ]
    }
   ],
   "source": [
    "print(accuracyTest)"
   ]
  },
  {
   "cell_type": "code",
   "execution_count": 83,
   "metadata": {},
   "outputs": [],
   "source": [
    "validationTest = accuracy(validationTarget, bestModel, fashionValidationSetParams)"
   ]
  },
  {
   "cell_type": "code",
   "execution_count": 84,
   "metadata": {},
   "outputs": [
    {
     "name": "stdout",
     "output_type": "stream",
     "text": [
      "0.8418958333333333\n"
     ]
    }
   ],
   "source": [
    "print(validationTest)"
   ]
  },
  {
   "cell_type": "code",
   "execution_count": null,
   "metadata": {},
   "outputs": [],
   "source": []
  }
 ],
 "metadata": {
  "kernelspec": {
   "display_name": "Python 3",
   "language": "python",
   "name": "python3"
  },
  "language_info": {
   "codemirror_mode": {
    "name": "ipython",
    "version": 3
   },
   "file_extension": ".py",
   "mimetype": "text/x-python",
   "name": "python",
   "nbconvert_exporter": "python",
   "pygments_lexer": "ipython3",
   "version": "3.6.5"
  }
 },
 "nbformat": 4,
 "nbformat_minor": 2
}
