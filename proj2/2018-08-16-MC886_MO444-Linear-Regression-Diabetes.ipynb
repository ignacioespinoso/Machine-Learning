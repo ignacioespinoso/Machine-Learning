{
 "cells": [
  {
   "cell_type": "code",
   "execution_count": null,
   "metadata": {},
   "outputs": [],
   "source": [
    "%matplotlib inline"
   ]
  },
  {
   "cell_type": "markdown",
   "metadata": {},
   "source": [
    "\n",
    "# Linear Regression Example\n",
    "\n",
    "This example uses the only the first feature of the `diabetes` dataset, in\n",
    "order to illustrate a two-dimensional plot of this regression technique. The\n",
    "straight line can be seen in the plot, showing how linear regression attempts\n",
    "to draw a straight line that will best minimize the residual sum of squares\n",
    "between the observed responses in the dataset, and the responses predicted by\n",
    "the linear approximation.\n",
    "\n",
    "The coefficients and the residual sum of squares are also calculated.\n"
   ]
  },
  {
   "cell_type": "code",
   "execution_count": null,
   "metadata": {},
   "outputs": [],
   "source": [
    "print(__doc__)\n",
    "\n",
    "# Code source adapted from: Jaques Grobler\n",
    "# License: BSD 3 clause\n",
    "\n",
    "import matplotlib.pyplot as plt\n",
    "import numpy as np\n",
    "import pandas as pd\n",
    "from sklearn import datasets, linear_model\n",
    "from sklearn.metrics import mean_squared_error\n",
    "\n",
    "# Load the diabetes dataset\n",
    "diabetes = datasets.load_diabetes()\n",
    "\n",
    "# Print the diabetes dimension\n",
    "print(\"Diabetes dataset dimensions:\", diabetes.data.shape)\n",
    "print()\n",
    "\n",
    "# Print the diabetes data (features and target)\n",
    "diabetes_features_df = pd.DataFrame(diabetes.data)\n",
    "print(diabetes_features_df)\n",
    "diabetes_target_df = pd.DataFrame(diabetes.target)\n",
    "print(diabetes_target_df)"
   ]
  },
  {
   "cell_type": "code",
   "execution_count": null,
   "metadata": {},
   "outputs": [],
   "source": [
    "# Use only one feature\n",
    "diabetes_X = diabetes.data[:, np.newaxis, 2]\n",
    "\n",
    "# Use all features\n",
    "#diabetes_X = diabetes.data \n",
    "\n",
    "diabetes_X_df = pd.DataFrame(diabetes_X)\n",
    "#print(diabetes_X_df)\n",
    "\n",
    "# Split the data into training/validation sets\n",
    "diabetes_X_train = diabetes_X[:-20]\n",
    "diabetes_X_validation = diabetes_X[-20:]\n",
    "\n",
    "# Print the diabetes train dimension\n",
    "print(\"Diabetes X train dimension:\", diabetes_X_train.data.shape)\n",
    "\n",
    "# Print the diabetes validation dimension\n",
    "print(\"Diabetes X validation dimension:\", diabetes_X_validation.data.shape)\n",
    "print()\n",
    "\n",
    "#diabetes_X_train_df = pd.DataFrame(diabetes_X_train)\n",
    "#diabetes_X_validation_df = pd.DataFrame(diabetes_X_validation)\n",
    "#print(diabetes_X_train_df)\n",
    "#print(diabetes_X_validation_df)\n",
    "\n",
    "# Split the targets into training/validation sets\n",
    "diabetes_y_train = diabetes.target[:-20]\n",
    "diabetes_y_validation = diabetes.target[-20:]\n",
    "\n",
    "# Print the diabetes train dimension\n",
    "print(\"Diabetes y train dimension:\", diabetes_y_train.data.shape)\n",
    "\n",
    "# Print the diabetes validation dimension\n",
    "print(\"Diabetes y validation dimension:\", diabetes_y_validation.data.shape)\n",
    "print()\n",
    "\n",
    "#diabetes_y_train_df = pd.DataFrame(diabetes_y_train)\n",
    "#diabetes_y_validation_df = pd.DataFrame(diabetes_y_validation)\n",
    "#print(diabetes_y_train_df)\n",
    "#print(diabetes_y_validation_df)\n"
   ]
  },
  {
   "cell_type": "code",
   "execution_count": null,
   "metadata": {},
   "outputs": [],
   "source": [
    "# Create linear regression object\n",
    "#regr = linear_model.LinearRegression()\n",
    "\n",
    "# Train the model using the training sets\n",
    "#regr.fit(diabetes_X_train, diabetes_y_train)\n",
    "\n",
    "# Make predictions using the validation set\n",
    "#diabetes_y_pred = regr.predict(diabetes_X_validation)\n",
    "\n",
    "# Print predictions \n",
    "#print(diabetes_y_pred)"
   ]
  },
  {
   "cell_type": "code",
   "execution_count": null,
   "metadata": {},
   "outputs": [],
   "source": [
    "# Create linear regression object\n",
    "regr = linear_model.SGDRegressor(max_iter=10000, eta0=0.001)\n",
    "\n",
    "# Train the model using the training sets\n",
    "regr.fit(diabetes_X_train, diabetes_y_train)\n",
    "\n",
    "# Make predictions using the validation set\n",
    "diabetes_y_pred = regr.predict(diabetes_X_validation)\n",
    "\n",
    "# Print predictions \n",
    "print(diabetes_y_pred)"
   ]
  },
  {
   "cell_type": "code",
   "execution_count": null,
   "metadata": {},
   "outputs": [],
   "source": [
    "# The coefficients\n",
    "print('Coefficients: \\n', regr.coef_)\n",
    "print('Intercept: \\n', regr.intercept_)\n",
    "# The mean squared error\n",
    "print(\"Mean squared error: %.2f\"\n",
    "      % mean_squared_error(diabetes_y_validation, diabetes_y_pred))\n",
    "\n",
    "# Plot outputs\n",
    "#plt.scatter(diabetes_X_train, diabetes_y_train, color='gray')\n",
    "plt.scatter(diabetes_X_validation, diabetes_y_validation, color='black')\n",
    "plt.plot(diabetes_X_validation, diabetes_y_pred, color='blue', linewidth=3)\n",
    "\n",
    "plt.xticks()\n",
    "plt.yticks()\n",
    "\n",
    "plt.show()"
   ]
  }
 ],
 "metadata": {
  "kernelspec": {
   "display_name": "Python 3",
   "language": "python",
   "name": "python3"
  },
  "language_info": {
   "codemirror_mode": {
    "name": "ipython",
    "version": 3
   },
   "file_extension": ".py",
   "mimetype": "text/x-python",
   "name": "python",
   "nbconvert_exporter": "python",
   "pygments_lexer": "ipython3",
   "version": "3.6.5"
  }
 },
 "nbformat": 4,
 "nbformat_minor": 1
}
